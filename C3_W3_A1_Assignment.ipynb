{
  "cells": [
    {
      "cell_type": "markdown",
      "metadata": {
        "id": "view-in-github",
        "colab_type": "text"
      },
      "source": [
        "<a href=\"https://colab.research.google.com/github/Nazalekser/portfolio/blob/main/C3_W3_A1_Assignment.ipynb\" target=\"_parent\"><img src=\"https://colab.research.google.com/assets/colab-badge.svg\" alt=\"Open In Colab\"/></a>"
      ]
    },
    {
      "cell_type": "markdown",
      "metadata": {
        "id": "nZeK6GpJKoQf"
      },
      "source": [
        "# Deep Q-Learning - Lunar Lander\n",
        "\n",
        "In this assignment, you will train an agent to land a lunar lander safely on a landing pad on the surface of the moon.\n",
        "\n",
        "\n",
        "# Outline\n",
        "- [ 1 - Import Packages](#1)\n",
        "- [ 2 - Hyperparameters](#2)\n",
        "- [ 3 - The Lunar Lander Environment](#3)\n",
        "  - [ 3.1 Action Space](#3.1)\n",
        "  - [ 3.2 Observation Space](#3.2)\n",
        "  - [ 3.3 Rewards](#3.3)\n",
        "  - [ 3.4 Episode Termination](#3.4)\n",
        "- [ 4 - Load the Environment](#4)\n",
        "- [ 5 - Interacting with the Gym Environment](#5)\n",
        "    - [ 5.1 Exploring the Environment's Dynamics](#5.1)\n",
        "- [ 6 - Deep Q-Learning](#6)\n",
        "  - [ 6.1 Target Network](#6.1)\n",
        "    - [ Exercise 1](#ex01)\n",
        "  - [ 6.2 Experience Replay](#6.2)\n",
        "- [ 7 - Deep Q-Learning Algorithm with Experience Replay](#7)\n",
        "  - [ Exercise 2](#ex02)\n",
        "- [ 8 - Update the Network Weights](#8)\n",
        "- [ 9 - Train the Agent](#9)\n",
        "- [ 10 - See the Trained Agent In Action](#10)\n",
        "- [ 11 - Congratulations!](#11)\n",
        "- [ 12 - References](#12)\n"
      ]
    },
    {
      "cell_type": "markdown",
      "metadata": {
        "id": "k_azJrhOKoQt"
      },
      "source": [
        "<a name=\"1\"></a>\n",
        "## 1 - Import Packages\n",
        "\n",
        "We'll make use of the following packages:\n",
        "- `numpy` is a package for scientific computing in python.\n",
        "- `deque` will be our data structure for our memory buffer.\n",
        "- `namedtuple` will be used to store the experience tuples.\n",
        "- The `gym` toolkit is a collection of environments that can be used to test reinforcement learning algorithms. We should note that in this notebook we are using `gym` version `0.24.0`.\n",
        "- `PIL.Image` and `pyvirtualdisplay` are needed to render the Lunar Lander environment.\n",
        "- We will use several modules from the `tensorflow.keras` framework for building deep learning models.\n",
        "- `utils` is a module that contains helper functions for this assignment. You do not need to modify the code in this file.\n",
        "\n",
        "Run the cell below to import all the necessary packages."
      ]
    },
    {
      "cell_type": "code",
      "execution_count": 1,
      "metadata": {
        "colab": {
          "base_uri": "https://localhost:8080/"
        },
        "id": "yJ-iVX9Fa14f",
        "outputId": "55145652-f588-4536-ccc7-e17007bdc9b0"
      },
      "outputs": [
        {
          "output_type": "stream",
          "name": "stdout",
          "text": [
            "Reading package lists... Done\n",
            "Building dependency tree... Done\n",
            "Reading state information... Done\n",
            "The following additional packages will be installed:\n",
            "  swig4.0\n",
            "Suggested packages:\n",
            "  swig-doc swig-examples swig4.0-examples swig4.0-doc\n",
            "The following NEW packages will be installed:\n",
            "  swig swig4.0\n",
            "0 upgraded, 2 newly installed, 0 to remove and 18 not upgraded.\n",
            "Need to get 1,116 kB of archives.\n",
            "After this operation, 5,542 kB of additional disk space will be used.\n",
            "Get:1 http://archive.ubuntu.com/ubuntu jammy/universe amd64 swig4.0 amd64 4.0.2-1ubuntu1 [1,110 kB]\n",
            "Get:2 http://archive.ubuntu.com/ubuntu jammy/universe amd64 swig all 4.0.2-1ubuntu1 [5,632 B]\n",
            "Fetched 1,116 kB in 1s (956 kB/s)\n",
            "Selecting previously unselected package swig4.0.\n",
            "(Reading database ... 120875 files and directories currently installed.)\n",
            "Preparing to unpack .../swig4.0_4.0.2-1ubuntu1_amd64.deb ...\n",
            "Unpacking swig4.0 (4.0.2-1ubuntu1) ...\n",
            "Selecting previously unselected package swig.\n",
            "Preparing to unpack .../swig_4.0.2-1ubuntu1_all.deb ...\n",
            "Unpacking swig (4.0.2-1ubuntu1) ...\n",
            "Setting up swig4.0 (4.0.2-1ubuntu1) ...\n",
            "Setting up swig (4.0.2-1ubuntu1) ...\n",
            "Processing triggers for man-db (2.10.2-1) ...\n",
            "Reading package lists... Done\n",
            "Building dependency tree... Done\n",
            "Reading state information... Done\n",
            "Package python-dev is not available, but is referred to by another package.\n",
            "This may mean that the package is missing, has been obsoleted, or\n",
            "is only available from another source\n",
            "However the following packages replace it:\n",
            "  python2-dev python2 python-dev-is-python3\n",
            "\n",
            "E: Package 'python-dev' has no installation candidate\n"
          ]
        }
      ],
      "source": [
        "!apt-get install -y swig\n",
        "!apt-get install -y python-dev"
      ]
    },
    {
      "cell_type": "code",
      "execution_count": 2,
      "metadata": {
        "colab": {
          "base_uri": "https://localhost:8080/"
        },
        "id": "uLEv_Fl6KoQ1",
        "outputId": "4e4a3f5f-c55f-4c6d-a5bc-0fd79444f0f0"
      },
      "outputs": [
        {
          "output_type": "stream",
          "name": "stdout",
          "text": [
            "Collecting pyvirtualdisplay\n",
            "  Downloading PyVirtualDisplay-3.0-py3-none-any.whl (15 kB)\n",
            "Installing collected packages: pyvirtualdisplay\n",
            "Successfully installed pyvirtualdisplay-3.0\n",
            "Requirement already satisfied: gym[box2d] in /usr/local/lib/python3.10/dist-packages (0.25.2)\n",
            "Requirement already satisfied: numpy>=1.18.0 in /usr/local/lib/python3.10/dist-packages (from gym[box2d]) (1.23.5)\n",
            "Requirement already satisfied: cloudpickle>=1.2.0 in /usr/local/lib/python3.10/dist-packages (from gym[box2d]) (2.2.1)\n",
            "Requirement already satisfied: gym-notices>=0.0.4 in /usr/local/lib/python3.10/dist-packages (from gym[box2d]) (0.0.8)\n",
            "Collecting box2d-py==2.3.5 (from gym[box2d])\n",
            "  Downloading box2d-py-2.3.5.tar.gz (374 kB)\n",
            "\u001b[2K     \u001b[90m━━━━━━━━━━━━━━━━━━━━━━━━━━━━━━━━━━━━━━━━\u001b[0m \u001b[32m374.4/374.4 kB\u001b[0m \u001b[31m6.7 MB/s\u001b[0m eta \u001b[36m0:00:00\u001b[0m\n",
            "\u001b[?25h  Preparing metadata (setup.py) ... \u001b[?25l\u001b[?25hdone\n",
            "Collecting pygame==2.1.0 (from gym[box2d])\n",
            "  Downloading pygame-2.1.0-cp310-cp310-manylinux_2_17_x86_64.manylinux2014_x86_64.whl (18.3 MB)\n",
            "\u001b[2K     \u001b[90m━━━━━━━━━━━━━━━━━━━━━━━━━━━━━━━━━━━━━━━━\u001b[0m \u001b[32m18.3/18.3 MB\u001b[0m \u001b[31m59.4 MB/s\u001b[0m eta \u001b[36m0:00:00\u001b[0m\n",
            "\u001b[?25hCollecting swig==4.* (from gym[box2d])\n",
            "  Downloading swig-4.1.1-py2.py3-none-manylinux_2_5_x86_64.manylinux1_x86_64.whl (1.8 MB)\n",
            "\u001b[2K     \u001b[90m━━━━━━━━━━━━━━━━━━━━━━━━━━━━━━━━━━━━━━━━\u001b[0m \u001b[32m1.8/1.8 MB\u001b[0m \u001b[31m69.1 MB/s\u001b[0m eta \u001b[36m0:00:00\u001b[0m\n",
            "\u001b[?25hBuilding wheels for collected packages: box2d-py\n",
            "  Building wheel for box2d-py (setup.py) ... \u001b[?25l\u001b[?25hdone\n",
            "  Created wheel for box2d-py: filename=box2d_py-2.3.5-cp310-cp310-linux_x86_64.whl size=2349143 sha256=6f4f84a2de55fc56c2432761d601bc5d11cc790f8803be5523a352fa2c761e63\n",
            "  Stored in directory: /root/.cache/pip/wheels/db/8f/6a/eaaadf056fba10a98d986f6dce954e6201ba3126926fc5ad9e\n",
            "Successfully built box2d-py\n",
            "Installing collected packages: swig, box2d-py, pygame\n",
            "  Attempting uninstall: pygame\n",
            "    Found existing installation: pygame 2.5.2\n",
            "    Uninstalling pygame-2.5.2:\n",
            "      Successfully uninstalled pygame-2.5.2\n",
            "Successfully installed box2d-py-2.3.5 pygame-2.1.0 swig-4.1.1\n"
          ]
        }
      ],
      "source": [
        "!pip install pyvirtualdisplay\n",
        "!pip install gym[box2d]"
      ]
    },
    {
      "cell_type": "code",
      "execution_count": 3,
      "metadata": {
        "colab": {
          "base_uri": "https://localhost:8080/"
        },
        "id": "KowhFSqGK8XI",
        "outputId": "725a124b-df8b-41d2-a17a-a3ebbee43206"
      },
      "outputs": [
        {
          "output_type": "stream",
          "name": "stdout",
          "text": [
            "Mounted at /content/drive\n"
          ]
        }
      ],
      "source": [
        "from google.colab import drive\n",
        "drive.mount('/content/drive')"
      ]
    },
    {
      "cell_type": "code",
      "execution_count": 4,
      "metadata": {
        "colab": {
          "base_uri": "https://localhost:8080/"
        },
        "id": "uclJNOH4yxho",
        "outputId": "3354f5cd-8ff8-4153-d818-e79c8417d11f"
      },
      "outputs": [
        {
          "output_type": "stream",
          "name": "stdout",
          "text": [
            "/content/drive/MyDrive/C3W3A1\n"
          ]
        }
      ],
      "source": [
        "%cd /content/drive/MyDrive/C3W3A1/"
      ]
    },
    {
      "cell_type": "code",
      "execution_count": 5,
      "metadata": {
        "id": "KYbOPKRtfQOr"
      },
      "outputs": [],
      "source": [
        "import time\n",
        "from collections import deque, namedtuple\n",
        "\n",
        "import gym\n",
        "import numpy as np\n",
        "import PIL.Image\n",
        "import tensorflow as tf\n",
        "import utils\n",
        "\n",
        "from pyvirtualdisplay import Display\n",
        "from tensorflow.keras import Sequential\n",
        "from tensorflow.keras.layers import Dense, Input, BatchNormalization\n",
        "from tensorflow.keras.losses import MSE\n",
        "from tensorflow.keras.optimizers import Adam"
      ]
    },
    {
      "cell_type": "code",
      "execution_count": 6,
      "metadata": {
        "colab": {
          "base_uri": "https://localhost:8080/"
        },
        "id": "QmNiA8YR1qle",
        "outputId": "5dfbbdce-73a4-4370-8cc2-0038a68f4e32"
      },
      "outputs": [
        {
          "output_type": "stream",
          "name": "stderr",
          "text": [
            "/usr/local/lib/python3.10/dist-packages/ipykernel/ipkernel.py:283: DeprecationWarning: `should_run_async` will not call `transform_cell` automatically in the future. Please pass the result to `transformed_cell` argument and any exception that happen during thetransform in `preprocessing_exc_tuple` in IPython 7.17 and above.\n",
            "  and should_run_async(code)\n"
          ]
        }
      ],
      "source": [
        "# Set the random seed for TensorFlow\n",
        "tf.random.set_seed(utils.SEED)"
      ]
    },
    {
      "cell_type": "markdown",
      "metadata": {
        "id": "6lhB17iGKoRK"
      },
      "source": [
        "<a name=\"2\"></a>\n",
        "## 2 - Hyperparameters\n",
        "\n",
        "Run the cell below to set the hyperparameters."
      ]
    },
    {
      "cell_type": "code",
      "execution_count": 7,
      "metadata": {
        "id": "6ctCZxzUKoRP"
      },
      "outputs": [],
      "source": [
        "MEMORY_SIZE = 100_000     # size of memory buffer\n",
        "GAMMA = 0.995             # discount factor\n",
        "ALPHA = 1e-3              # learning rate\n",
        "NUM_STEPS_FOR_UPDATE = 4  # perform a learning update every C time steps"
      ]
    },
    {
      "cell_type": "markdown",
      "metadata": {
        "id": "1jgRL4A_KoRR"
      },
      "source": [
        "<a name=\"3\"></a>\n",
        "## 3 - The Lunar Lander Environment\n",
        "\n",
        "In this notebook we will be using [OpenAI's Gym Library](https://www.gymlibrary.ml/). The Gym library provides a wide variety of environments for reinforcement learning. To put it simply, an environment represents a problem or task to be solved. In this notebook, we will try to solve the Lunar Lander environment using reinforcement learning.\n",
        "\n",
        "The goal of the Lunar Lander environment is to land the lunar lander safely on the landing pad on the surface of the moon. The landing pad is designated by two flag poles and it is always at coordinates `(0,0)` but the lander is also allowed to land outside of the landing pad. The lander starts at the top center of the environment with a random initial force applied to its center of mass and has infinite fuel. The environment is considered solved if you get `200` points.\n",
        "\n",
        "<br>\n",
        "<br>\n",
        "<figure>\n",
        "  <img src = \"https://drive.google.com/uc?id=1DNInZqvabzEdywftpiMfuR3QTy1674PE\" width = 40%>\n",
        "      <figcaption style = \"text-align: center; font-style: italic\">Fig 1. Lunar Lander Environment.</figcaption>\n",
        "</figure>\n",
        "\n",
        "\n",
        "<a name=\"3.1\"></a>\n",
        "### 3.1 Action Space\n",
        "\n",
        "The agent has four discrete actions available:\n",
        "\n",
        "* Do nothing.\n",
        "* Fire right engine.\n",
        "* Fire main engine.\n",
        "* Fire left engine.\n",
        "\n",
        "Each action has a corresponding numerical value:\n",
        "\n",
        "```python\n",
        "Do nothing = 0\n",
        "Fire right engine = 1\n",
        "Fire main engine = 2\n",
        "Fire left engine = 3\n",
        "```\n",
        "\n",
        "<a name=\"3.2\"></a>\n",
        "### 3.2 Observation Space\n",
        "\n",
        "The agent's observation space consists of a state vector with 8 variables:\n",
        "\n",
        "* Its $(x,y)$ coordinates. The landing pad is always at coordinates $(0,0)$.\n",
        "* Its linear velocities $(\\dot x,\\dot y)$.\n",
        "* Its angle $\\theta$.\n",
        "* Its angular velocity $\\dot \\theta$.\n",
        "* Two booleans, $l$ and $r$, that represent whether each leg is in contact with the ground or not.\n",
        "\n",
        "<a name=\"3.3\"></a>\n",
        "### 3.3 Rewards\n",
        "\n",
        "The Lunar Lander environment has the following reward system:\n",
        "\n",
        "* Landing on the landing pad and coming to rest is about 100-140 points.\n",
        "* If the lander moves away from the landing pad, it loses reward.\n",
        "* If the lander crashes, it receives -100 points.\n",
        "* If the lander comes to rest, it receives +100 points.\n",
        "* Each leg with ground contact is +10 points.\n",
        "* Firing the main engine is -0.3 points each frame.\n",
        "* Firing the side engine is -0.03 points each frame.\n",
        "\n",
        "<a name=\"3.4\"></a>\n",
        "### 3.4 Episode Termination\n",
        "\n",
        "An episode ends (i.e the environment enters a terminal state) if:\n",
        "\n",
        "* The lunar lander crashes (i.e if the body of the lunar lander comes in contact with the surface of the moon).\n",
        "\n",
        "* The lander's $x$-coordinate is greater than 1.\n",
        "\n",
        "You can check out the [Open AI Gym documentation](https://www.gymlibrary.ml/environments/box2d/lunar_lander/) for a full description of the environment."
      ]
    },
    {
      "cell_type": "markdown",
      "metadata": {
        "id": "wrlDC9u0KoRV"
      },
      "source": [
        "<a name=\"4\"></a>\n",
        "## 4 - Load the Environment\n",
        "\n",
        "We start by loading the `LunarLander-v2` environment from the `gym` library by using the `.make()` method. `LunarLander-v2` is the latest version of the Lunar Lander environment and you can read about its version history in the [Open AI Gym documentation](https://www.gymlibrary.ml/environments/box2d/lunar_lander/#version-history)."
      ]
    },
    {
      "cell_type": "code",
      "execution_count": 8,
      "metadata": {
        "colab": {
          "base_uri": "https://localhost:8080/"
        },
        "id": "ILVMYKewfR0n",
        "outputId": "a3ff9b76-2145-43f9-b6da-5b8ff1c85c72"
      },
      "outputs": [
        {
          "output_type": "stream",
          "name": "stderr",
          "text": [
            "/usr/local/lib/python3.10/dist-packages/gym/core.py:317: DeprecationWarning: \u001b[33mWARN: Initializing wrapper in old step API which returns one bool instead of two. It is recommended to set `new_step_api=True` to use new step API. This will be the default behaviour in future.\u001b[0m\n",
            "  deprecation(\n",
            "/usr/local/lib/python3.10/dist-packages/gym/wrappers/step_api_compatibility.py:39: DeprecationWarning: \u001b[33mWARN: Initializing environment in old step API which returns one bool instead of two. It is recommended to set `new_step_api=True` to use new step API. This will be the default behaviour in future.\u001b[0m\n",
            "  deprecation(\n"
          ]
        }
      ],
      "source": [
        "env = gym.make('LunarLander-v2')"
      ]
    },
    {
      "cell_type": "markdown",
      "metadata": {
        "id": "CF5eFwiNKoRc"
      },
      "source": [
        "Once we load the environment we use the `.reset()` method to reset the environment to the initial state. The lander starts at the top center of the environment and we can render the first frame of the environment by using the `.render()` method."
      ]
    },
    {
      "cell_type": "code",
      "execution_count": 9,
      "metadata": {
        "colab": {
          "base_uri": "https://localhost:8080/",
          "height": 491
        },
        "id": "Tai5ZawIKoRe",
        "outputId": "9f7869b6-6c57-419a-a1be-9857d0ce636a"
      },
      "outputs": [
        {
          "output_type": "stream",
          "name": "stderr",
          "text": [
            "/usr/local/lib/python3.10/dist-packages/gym/core.py:43: DeprecationWarning: \u001b[33mWARN: The argument mode in render method is deprecated; use render_mode during environment initialization instead.\n",
            "See here for more information: https://www.gymlibrary.ml/content/api/\u001b[0m\n",
            "  deprecation(\n"
          ]
        },
        {
          "output_type": "execute_result",
          "data": {
            "text/plain": [
              "<PIL.Image.Image image mode=RGB size=600x400>"
            ],
            "image/png": "[encoded data removed]"
          },
          "metadata": {},
          "execution_count": 9
        }
      ],
      "source": [
        "env.reset()\n",
        "PIL.Image.fromarray(env.render(mode='rgb_array'))"
      ]
    },
    {
      "cell_type": "markdown",
      "metadata": {
        "id": "HauFLkYVKoRf"
      },
      "source": [
        "In order to build our neural network later on we need to know the size of the state vector and the number of valid actions. We can get this information from our environment by using the `.observation_space.shape` and `action_space.n` methods, respectively."
      ]
    },
    {
      "cell_type": "code",
      "execution_count": 10,
      "metadata": {
        "colab": {
          "base_uri": "https://localhost:8080/"
        },
        "id": "x3fdqdG4CUu2",
        "outputId": "e003d44b-14e5-48f6-b3fe-74e6a9157b8e"
      },
      "outputs": [
        {
          "output_type": "stream",
          "name": "stdout",
          "text": [
            "State Shape: (8,)\n",
            "Number of actions: 4\n"
          ]
        }
      ],
      "source": [
        "state_size = env.observation_space.shape\n",
        "num_actions = env.action_space.n\n",
        "\n",
        "print('State Shape:', state_size)\n",
        "print('Number of actions:', num_actions)"
      ]
    },
    {
      "cell_type": "markdown",
      "metadata": {
        "id": "iTUeEfSDKoRi"
      },
      "source": [
        "<a name=\"5\"></a>\n",
        "## 5 - Interacting with the Gym Environment\n",
        "\n",
        "The Gym library implements the standard “agent-environment loop” formalism:\n",
        "\n",
        "<br>\n",
        "<center>\n",
        "<img src = \"https://drive.google.com/uc?id=1sKOlMnoPC7yX8V7dm5P2jhnXL-aNztJM\" width = 90% style = \"border: thin silver solid; padding: 0px\">\n",
        "<figcaption style = \"text-align:center; font-style:italic\">Fig 2. Agent-environment Loop Formalism.</figcaption>\n",
        "</center>\n",
        "<br>\n",
        "\n",
        "In the standard “agent-environment loop” formalism, an agent interacts with the environment in discrete time steps $t=0,1,2,...$. At each time step $t$, the agent uses a policy $\\pi$ to select an action $A_t$ based on its observation of the environment's state $S_t$. The agent receives a numerical reward $R_t$ and on the next time step, moves to a new state $S_{t+1}$.\n",
        "\n",
        "<a name=\"5.1\"></a>\n",
        "### 5.1 Exploring the Environment's Dynamics\n",
        "\n",
        "In Open AI's Gym environments, we use the `.step()` method to run a single time step of the environment's dynamics. In the version of `gym` that we are using the `.step()` method accepts an action and returns four values:\n",
        "\n",
        "* `observation` (**object**): an environment-specific object representing your observation of the environment. In the Lunar Lander environment this corresponds to a numpy array containing the positions and velocities of the lander as described in section [3.2 Observation Space](#3.2).\n",
        "\n",
        "\n",
        "* `reward` (**float**): amount of reward returned as a result of taking the given action. In the Lunar Lander environment this corresponds to a float of type `numpy.float64` as described in section [3.3 Rewards](#3.3).\n",
        "\n",
        "\n",
        "* `done` (**boolean**): When done is `True`, it indicates the episode has terminated and it’s time to reset the environment.\n",
        "\n",
        "\n",
        "* `info` (**dictionary**): diagnostic information useful for debugging. We won't be using this variable in this notebook but it is shown here for completeness.\n",
        "\n",
        "To begin an episode, we need to reset the environment to an initial state. We do this by using the `.reset()` method."
      ]
    },
    {
      "cell_type": "code",
      "execution_count": 11,
      "metadata": {
        "id": "ZA3z5-1hKoRm"
      },
      "outputs": [],
      "source": [
        "# Reset the environment and get the initial state.\n",
        "initial_state = env.reset()"
      ]
    },
    {
      "cell_type": "markdown",
      "metadata": {
        "id": "qsumWC4WKoRo"
      },
      "source": [
        "Once the environment is reset, the agent can start taking actions in the environment by using the `.step()` method. Note that the agent can only take one action per time step.\n",
        "\n",
        "In the cell below you can select different actions and see how the returned values change depending on the action taken. Remember that in this environment the agent has four discrete actions available and we specify them in code by using their corresponding numerical value:\n",
        "\n",
        "```python\n",
        "Do nothing = 0\n",
        "Fire right engine = 1\n",
        "Fire main engine = 2\n",
        "Fire left engine = 3\n",
        "```"
      ]
    },
    {
      "cell_type": "code",
      "execution_count": 12,
      "metadata": {
        "colab": {
          "base_uri": "https://localhost:8080/"
        },
        "id": "_1esh_LVKoRp",
        "outputId": "1c6c7f5c-02b7-403a-d20e-bff4d7b814c5"
      },
      "outputs": [
        {
          "output_type": "stream",
          "name": "stdout",
          "text": [
            "Initial State: [-0.001 1.408 -0.062 -0.150 0.001 0.014 0.000 0.000]\n",
            "Action: 0\n",
            "Next State: [-0.001 1.404 -0.061 -0.175 0.001 0.014 0.000 0.000]\n",
            "Reward Received: -2.0705290877018854\n",
            "Episode Terminated: False\n",
            "Info: {}\n"
          ]
        }
      ],
      "source": [
        "# Select an action\n",
        "action = 0\n",
        "\n",
        "# Run a single time step of the environment's dynamics with the given action.\n",
        "next_state, reward, done, info = env.step(action)\n",
        "\n",
        "with np.printoptions(formatter={'float': '{:.3f}'.format}):\n",
        "    print(\"Initial State:\", initial_state)\n",
        "    print(\"Action:\", action)\n",
        "    print(\"Next State:\", next_state)\n",
        "    print(\"Reward Received:\", reward)\n",
        "    print(\"Episode Terminated:\", done)\n",
        "    print(\"Info:\", info)"
      ]
    },
    {
      "cell_type": "markdown",
      "metadata": {
        "id": "1e8Hd3RlKoRr"
      },
      "source": [
        "In practice, when we train the agent we use a loop to allow the agent to take many consecutive actions during an episode."
      ]
    },
    {
      "cell_type": "markdown",
      "metadata": {
        "id": "3hdRzKnrKoRs"
      },
      "source": [
        "<a name=\"6\"></a>\n",
        "## 6 - Deep Q-Learning\n",
        "\n",
        "In cases where both the state and action space are discrete we can estimate the action-value function iteratively by using the Bellman equation:\n",
        "\n",
        "$$\n",
        "Q_{i+1}(s,a) = R + \\gamma \\max_{a'}Q_i(s',a')\n",
        "$$\n",
        "\n",
        "This iterative method converges to the optimal action-value function $Q^*(s,a)$ as $i\\to\\infty$. This means that the agent just needs to gradually explore the state-action space and keep updating the estimate of $Q(s,a)$ until it converges to the optimal action-value function $Q^*(s,a)$. However, in cases where the state space is continuous it becomes practically impossible to explore the entire state-action space. Consequently, this also makes it practically impossible to gradually estimate $Q(s,a)$ until it converges to $Q^*(s,a)$.\n",
        "\n",
        "In the Deep $Q$-Learning, we solve this problem by using a neural network to estimate the action-value function $Q(s,a)\\approx Q^*(s,a)$. We call this neural network a $Q$-Network and it can be trained by adjusting its weights at each iteration to minimize the mean-squared error in the Bellman equation.\n",
        "\n",
        "Unfortunately, using neural networks in reinforcement learning to estimate action-value functions has proven to be highly unstable. Luckily, there's a couple of techniques that can be employed to avoid instabilities. These techniques consist of using a ***Target Network*** and ***Experience Replay***. We will explore these two techniques in the following sections."
      ]
    },
    {
      "cell_type": "markdown",
      "metadata": {
        "id": "cAvqdQNvKoRu"
      },
      "source": [
        "<a name=\"6.1\"></a>\n",
        "### 6.1 Target Network\n",
        "\n",
        "We can train the $Q$-Network by adjusting it's weights at each iteration to minimize the mean-squared error in the Bellman equation, where the target values are given by:\n",
        "\n",
        "$$\n",
        "y = R + \\gamma \\max_{a'}Q(s',a';w)\n",
        "$$\n",
        "\n",
        "where $w$ are the weights of the $Q$-Network. This means that we are adjusting the weights $w$ at each iteration to minimize the following error:\n",
        "\n",
        "$$\n",
        "\\overbrace{\\underbrace{R + \\gamma \\max_{a'}Q(s',a'; w)}_{\\rm {y~target}} - Q(s,a;w)}^{\\rm {Error}}\n",
        "$$\n",
        "\n",
        "Notice that this forms a problem because the $y$ target is changing on every iteration. Having a constantly moving target can lead to oscillations and instabilities. To avoid this, we can create\n",
        "a separate neural network for generating the $y$ targets. We call this separate neural network the **target $\\hat Q$-Network** and it will have the same architecture as the original $Q$-Network. By using the target $\\hat Q$-Network, the above error becomes:\n",
        "\n",
        "$$\n",
        "\\overbrace{\\underbrace{R + \\gamma \\max_{a'}\\hat{Q}(s',a'; w^-)}_{\\rm {y~target}} - Q(s,a;w)}^{\\rm {Error}}\n",
        "$$\n",
        "\n",
        "where $w^-$ and $w$ are the weights the target $\\hat Q$-Network and $Q$-Network, respectively.\n",
        "\n",
        "In practice, we will use the following algorithm: every $C$ time steps we will use the $\\hat Q$-Network to generate the $y$ targets and update the weights of the target $\\hat Q$-Network using the weights of the $Q$-Network. We will update the weights $w^-$ of the the target $\\hat Q$-Network using a **soft update**. This means that we will update the weights $w^-$ using the following rule:\n",
        "\n",
        "$$\n",
        "w^-\\leftarrow \\tau w + (1 - \\tau) w^-\n",
        "$$\n",
        "\n",
        "where $\\tau\\ll 1$. By using the soft update, we are ensuring that the target values, $y$, change slowly, which greatly improves the stability of our learning algorithm."
      ]
    },
    {
      "cell_type": "code",
      "execution_count": 13,
      "metadata": {
        "id": "hwM12OWzKoRy"
      },
      "outputs": [],
      "source": [
        "# Create the Q-Network\n",
        "q_network = Sequential([\n",
        "    Input(shape=state_size),\n",
        "    Dense(units=64, activation='relu'),\n",
        "    BatchNormalization(),\n",
        "    Dense(units=64, activation='relu'),\n",
        "    Dense(units=num_actions, activation='linear')\n",
        "    ])\n",
        "\n",
        "# Create the target Q^-Network\n",
        "target_q_network = Sequential([\n",
        "    Input(shape=state_size),\n",
        "    Dense(units=64, activation='relu'),\n",
        "    BatchNormalization(),\n",
        "    Dense(units=64, activation='relu'),\n",
        "    Dense(units=num_actions, activation='linear')\n",
        "    ])\n",
        "\n",
        "optimizer = Adam(learning_rate=ALPHA)"
      ]
    },
    {
      "cell_type": "markdown",
      "metadata": {
        "id": "daqj1j5pKoR4"
      },
      "source": [
        "<a name=\"6.2\"></a>\n",
        "### 6.2 Experience Replay\n",
        "\n",
        "When an agent interacts with the environment, the states, actions, and rewards the agent experiences are sequential by nature. If the agent tries to learn from these consecutive experiences it can run into problems due to the strong correlations between them. To avoid this, we employ a technique known as **Experience Replay** to generate uncorrelated experiences for training our agent. Experience replay consists of storing the agent's experiences (i.e the states, actions, and rewards the agent receives) in a memory buffer and then sampling a random mini-batch of experiences from the buffer to do the learning. The experience tuples $(S_t, A_t, R_t, S_{t+1})$ will be added to the memory buffer at each time step as the agent interacts with the environment.\n",
        "\n",
        "For convenience, we will store the experiences as named tuples."
      ]
    },
    {
      "cell_type": "code",
      "execution_count": 14,
      "metadata": {
        "id": "80dW6mqQKoR5"
      },
      "outputs": [],
      "source": [
        "# Store experiences as named tuples\n",
        "experience = namedtuple(\"Experience\", field_names=[\"state\", \"action\", \"reward\", \"next_state\", \"done\"])"
      ]
    },
    {
      "cell_type": "markdown",
      "metadata": {
        "id": "p9xaJ-0iKoR6"
      },
      "source": [
        "By using experience replay we avoid problematic correlations, oscillations and instabilities. In addition, experience replay also allows the agent to potentially use the same experience in multiple weight updates, which increases data efficiency."
      ]
    },
    {
      "cell_type": "markdown",
      "metadata": {
        "id": "_E9XREaPKoR7"
      },
      "source": [
        "<a name=\"7\"></a>\n",
        "## 7 - Deep Q-Learning Algorithm with Experience Replay\n",
        "\n",
        "Now that we know all the techniques that we are going to use, we can put them togther to arrive at the Deep Q-Learning Algorithm With Experience Replay.\n"
      ]
    },
    {
      "cell_type": "code",
      "execution_count": 15,
      "metadata": {
        "id": "StsK1wI0KoR9"
      },
      "outputs": [],
      "source": [
        "def compute_loss(experiences, gamma, q_network, target_q_network):\n",
        "    \"\"\"\n",
        "    Calculates the loss.\n",
        "\n",
        "    Args:\n",
        "      experiences: (tuple) tuple of [\"state\", \"action\", \"reward\", \"next_state\", \"done\"] namedtuples\n",
        "      gamma: (float) The discount factor.\n",
        "      q_network: (tf.keras.Sequential) Keras model for predicting the q_values\n",
        "      target_q_network: (tf.keras.Sequential) Karas model for predicting the targets\n",
        "\n",
        "    Returns:\n",
        "      loss: (TensorFlow Tensor(shape=(0,), dtype=int32)) the Mean-Squared Error between\n",
        "            the y targets and the Q(s,a) values.\n",
        "    \"\"\"\n",
        "\n",
        "    # Unpack the mini-batch of experience tuples\n",
        "    states, actions, rewards, next_states, done_vals = experiences\n",
        "\n",
        "    # Compute max Q^(s,a)\n",
        "    max_qsa = tf.reduce_max(target_q_network(next_states), axis=-1)\n",
        "\n",
        "    # Set y = R if episode terminates, otherwise set y = R + γ max Q^(s,a).\n",
        "    y_targets = rewards + (gamma * max_qsa * (1 - done_vals))\n",
        "\n",
        "    # Get the q_values\n",
        "    q_values = q_network(states)\n",
        "    q_values = tf.gather_nd(q_values, tf.stack([tf.range(q_values.shape[0]),\n",
        "                                                tf.cast(actions, tf.int32)], axis=1))\n",
        "\n",
        "    # Compute the loss\n",
        "    loss = MSE(y_targets, q_values)\n",
        "\n",
        "    return loss"
      ]
    },
    {
      "cell_type": "markdown",
      "metadata": {
        "id": "eOY2Q3H7KoSH"
      },
      "source": [
        "<a name=\"8\"></a>\n",
        "## 8 - Update the Network Weights\n",
        "\n",
        "We will use the `agent_learn` function below to implement lines ***12 -14*** of the algorithm outlined in [Fig 3](#9). The `agent_learn` function will update the weights of the $Q$ and target $\\hat Q$ networks using a custom training loop. Because we are using a custom training loop we need to retrieve the gradients via a `tf.GradientTape` instance, and then call `optimizer.apply_gradients()` to update the weights of our $Q$-Network. Note that we are also using the `@tf.function` decorator to increase performance. Without this decorator our training will take twice as long. If you would like to know more about how to increase performance with `@tf.function` take a look at the [TensorFlow documentation](https://www.tensorflow.org/guide/function).\n",
        "\n",
        "The last line of this function updates the weights of the target $\\hat Q$-Network using a [soft update](#6.1). If you want to know how this is implemented in code we encourage you to take a look at the `utils.update_target_network` function in the `utils` module."
      ]
    },
    {
      "cell_type": "code",
      "execution_count": 16,
      "metadata": {
        "id": "3zGMNAg2KoSK"
      },
      "outputs": [],
      "source": [
        "@tf.function\n",
        "def agent_learn(experiences, gamma):\n",
        "    \"\"\"\n",
        "    Updates the weights of the Q networks.\n",
        "\n",
        "    Args:\n",
        "      experiences: (tuple) tuple of [\"state\", \"action\", \"reward\", \"next_state\", \"done\"] namedtuples\n",
        "      gamma: (float) The discount factor.\n",
        "\n",
        "    \"\"\"\n",
        "\n",
        "    # Calculate the loss\n",
        "    with tf.GradientTape() as tape:\n",
        "        loss = compute_loss(experiences, gamma, q_network, target_q_network)\n",
        "\n",
        "    # Get the gradients of the loss with respect to the weights.\n",
        "    gradients = tape.gradient(loss, q_network.trainable_variables)\n",
        "\n",
        "    # Update the weights of the q_network.\n",
        "    optimizer.apply_gradients(zip(gradients, q_network.trainable_variables))\n",
        "\n",
        "    # update the weights of target q_network\n",
        "    utils.update_target_network(q_network, target_q_network)"
      ]
    },
    {
      "cell_type": "markdown",
      "metadata": {
        "id": "FsY0x0N2KoSN"
      },
      "source": [
        "<a name=\"9\"></a>\n",
        "## 9 - Train the Agent\n",
        "\n",
        "We are now ready to train our agent to solve the Lunar Lander environment. In the cell below we will implement the algorithm in [Fig 3](#9) line by line (please note that we have included the same algorithm below for easy reference. This will prevent you from scrolling up and down the notebook):\n",
        "\n",
        "* **Line 1**: We initialize the `memory_buffer` with a capacity of $N =$ `MEMORY_SIZE`. Notice that we are using a `deque` as the data structure for our `memory_buffer`.\n",
        "\n",
        "\n",
        "* **Line 2**: We skip this line since we already initialized the `q_network`.\n",
        "\n",
        "\n",
        "* **Line 3**: We initialize the `target_q_network` by setting its weights to be equal to those of the `q_network`.\n",
        "\n",
        "\n",
        "* **Line 4**: We start the outer loop. Notice that we have set $M =$ `num_episodes = 2000`. This number is reasonable because the agent should be able to solve the Lunar Lander environment in less than `2000` episodes using this notebook's default parameters.\n",
        "\n",
        "\n",
        "* **Line 5**: We use the `.reset()` method to reset the environment to the initial state and get the initial state.\n",
        "\n",
        "\n",
        "* **Line 6**: We start the inner loop. Notice that we have set $T =$ `max_num_timesteps = 1000`. This means that the episode will automatically terminate if the episode hasn't terminated after `1000` time steps.\n",
        "\n",
        "\n",
        "* **Line 7**: The agent observes the current `state` and chooses an `action` using an $\\epsilon$-greedy policy. Our agent starts out using a value of $\\epsilon =$ `epsilon = 1` which yields an $\\epsilon$-greedy policy that is equivalent to the equiprobable random policy. This means that at the beginning of our training, the agent is just going to take random actions regardless of the observed `state`. As training progresses we will decrease the value of $\\epsilon$ slowly towards a minimum value using a given $\\epsilon$-decay rate. We want this minimum value to be close to zero because a value of $\\epsilon = 0$ will yield an $\\epsilon$-greedy policy that is equivalent to the greedy policy. This means that towards the end of training, the agent will lean towards selecting the `action` that it believes (based on its past experiences) will maximize $Q(s,a)$. We will set the minimum $\\epsilon$ value to be `0.01` and not exactly 0 because we always want to keep a little bit of exploration during training. If you want to know how this is implemented in code we encourage you to take a look at the `utils.get_action` function in the `utils` module.\n",
        "\n",
        "\n",
        "* **Line 8**: We use the `.step()` method to take the given `action` in the environment and get the `reward` and the `next_state`.\n",
        "\n",
        "\n",
        "* **Line 9**: We store the `experience(state, action, reward, next_state, done)` tuple in our `memory_buffer`. Notice that we also store the `done` variable so that we can keep track of when an episode terminates. This allowed us to set the $y$ targets.\n",
        "\n",
        "\n",
        "* **Line 10**: We check if the conditions are met to perform a learning update. We do this by using our custom `utils.check_update_conditions` function. This function checks if $C =$ `NUM_STEPS_FOR_UPDATE = 4` time steps have occured and if our `memory_buffer` has enough experience tuples to fill a mini-batch. For example, if the mini-batch size is `64`, then our `memory_buffer` should have at least `64` experience tuples in order to pass the latter condition. If the conditions are met, then the `utils.check_update_conditions` function will return a value of `True`, otherwise it will return a value of `False`.\n",
        "\n",
        "\n",
        "* **Lines 11 - 14**: If the `update` variable is `True` then we perform a learning update. The learning update consists of sampling a random mini-batch of experience tuples from our `memory_buffer`, setting the $y$ targets, performing gradient descent, and updating the weights of the networks. We will use the `agent_learn` function we defined in [Section 8](#8) to perform the latter 3.\n",
        "\n",
        "\n",
        "* **Line 15**: At the end of each iteration of the inner loop we set `next_state` as our new `state` so that the loop can start again from this new state. In addition, we check if the episode has reached a terminal state (i.e we check if `done = True`). If a terminal state has been reached, then we break out of the inner loop.\n",
        "\n",
        "\n",
        "* **Line 16**: At the end of each iteration of the outer loop we update the value of $\\epsilon$, and check if the environment has been solved. We consider that the environment has been solved if the agent receives an average of `200` points in the last `100` episodes. If the environment has not been solved we continue the outer loop and start a new episode.\n",
        "\n",
        "Finally, we wanted to note that we have included some extra variables to keep track of the total number of points the agent received in each episode. This will help us determine if the agent has solved the environment and it will also allow us to see how our agent performed during training. We also use the `time` module to measure how long the training takes.\n",
        "\n",
        "<br>\n",
        "<br>\n",
        "<figure>\n",
        "  <img src = \"https://drive.google.com/uc?id=1N_bOSKnPitWHUUdyHXBp9l6EqVmVEvCF\" width = 90% style = \"border: thin silver solid; padding: 0px\">\n",
        "      <figcaption style = \"text-align: center; font-style: italic\">Fig 3. Deep Q-Learning with Experience Replay.</figcaption>\n",
        "</figure>\n",
        "<br>\n",
        "\n",
        "**Note:** With this notebook's default parameters, the following cell takes between 10 to 15 minutes to run."
      ]
    },
    {
      "cell_type": "code",
      "execution_count": null,
      "metadata": {
        "colab": {
          "background_save": true,
          "base_uri": "https://localhost:8080/"
        },
        "id": "ALZYOXbxKoST",
        "outputId": "490c9270-6cf7-403f-c670-35e2bc01fe55"
      },
      "outputs": [
        {
          "output_type": "stream",
          "name": "stdout",
          "text": [
            "Episode 100 | Total point average of the last 100 episodes: -153.71\n",
            "Episode 200 | Total point average of the last 100 episodes: -94.14\n",
            "Episode 242 | Total point average of the last 100 episodes: -56.56"
          ]
        }
      ],
      "source": [
        "start = time.time()\n",
        "\n",
        "num_episodes = 2000\n",
        "max_num_timesteps = 1000\n",
        "\n",
        "total_point_history = []\n",
        "\n",
        "num_p_av = 100    # number of total points to use for averaging\n",
        "epsilon = 1.0     # initial ε value for ε-greedy policy\n",
        "\n",
        "# Create a memory buffer D with capacity N\n",
        "memory_buffer = deque(maxlen=MEMORY_SIZE)\n",
        "\n",
        "# Set the target network weights equal to the Q-Network weights\n",
        "target_q_network.set_weights(q_network.get_weights())\n",
        "\n",
        "for i in range(num_episodes):\n",
        "\n",
        "    # Reset the environment to the initial state and get the initial state\n",
        "    state = env.reset()\n",
        "    total_points = 0\n",
        "\n",
        "    for t in range(max_num_timesteps):\n",
        "\n",
        "        # From the current state S choose an action A using an ε-greedy policy\n",
        "        state_qn = np.expand_dims(state, axis=0)  # state needs to be the right shape for the q_network\n",
        "        q_values = q_network(state_qn)\n",
        "        action = utils.get_action(q_values, epsilon)\n",
        "\n",
        "        # Take action A and receive reward R and the next state S'\n",
        "        next_state, reward, done, _ = env.step(action)\n",
        "\n",
        "        # Store experience tuple (S,A,R,S') in the memory buffer.\n",
        "        # We store the done variable as well for convenience.\n",
        "        memory_buffer.append(experience(state, action, reward, next_state, done))\n",
        "\n",
        "        # Only update the network every NUM_STEPS_FOR_UPDATE time steps.\n",
        "        update = utils.check_update_conditions(t, NUM_STEPS_FOR_UPDATE, memory_buffer)\n",
        "\n",
        "        if update:\n",
        "            # Sample random mini-batch of experience tuples (S,A,R,S') from D\n",
        "            experiences = utils.get_experiences(memory_buffer)\n",
        "\n",
        "            # Set the y targets, perform a gradient descent step,\n",
        "            # and update the network weights.\n",
        "            agent_learn(experiences, GAMMA)\n",
        "\n",
        "        state = next_state.copy()\n",
        "        total_points += reward\n",
        "\n",
        "        if done:\n",
        "            break\n",
        "\n",
        "    total_point_history.append(total_points)\n",
        "    av_latest_points = np.mean(total_point_history[-num_p_av:])\n",
        "\n",
        "    # Update the ε value\n",
        "    epsilon = utils.get_new_eps(epsilon)\n",
        "\n",
        "    print(f\"\\rEpisode {i+1} | Total point average of the last {num_p_av} episodes: {av_latest_points:.2f}\", end=\"\")\n",
        "\n",
        "    if (i+1) % num_p_av == 0:\n",
        "        print(f\"\\rEpisode {i+1} | Total point average of the last {num_p_av} episodes: {av_latest_points:.2f}\")\n",
        "\n",
        "    # We will consider that the environment is solved if we get an\n",
        "    # average of 200 points in the last 100 episodes.\n",
        "    if av_latest_points >= 300.0:\n",
        "        print(f\"\\n\\nEnvironment solved in {i+1} episodes!\")\n",
        "        q_network.save('lunar_lander_model.h5')\n",
        "        break\n",
        "\n",
        "tot_time = time.time() - start\n",
        "\n",
        "print(f\"\\nTotal Runtime: {tot_time:.2f} s ({(tot_time/60):.2f} min)\")"
      ]
    },
    {
      "cell_type": "markdown",
      "metadata": {
        "id": "rFnFaEH_KoSW"
      },
      "source": [
        "We can plot the point history to see how our agent improved during training."
      ]
    },
    {
      "cell_type": "code",
      "execution_count": null,
      "metadata": {
        "id": "E_EUXxurfe8m"
      },
      "outputs": [],
      "source": [
        "# Plot the point history\n",
        "utils.plot_history(total_point_history)"
      ]
    },
    {
      "cell_type": "markdown",
      "metadata": {
        "id": "c_xwgaX5MnYt"
      },
      "source": [
        "<a name=\"10\"></a>\n",
        "## 10 - See the Trained Agent In Action\n",
        "\n",
        "Now that we have trained our agent, we can see it in action. We will use the `utils.create_video` function to create a video of our agent interacting with the environment using the trained $Q$-Network. The `utils.create_video` function uses the `imageio` library to create the video. This library produces some warnings that can be distracting, so, to suppress these warnings we run the code below."
      ]
    },
    {
      "cell_type": "code",
      "execution_count": null,
      "metadata": {
        "id": "A5dKMavMKoSa"
      },
      "outputs": [],
      "source": [
        "# Suppress warnings from imageio\n",
        "import logging\n",
        "logging.getLogger().setLevel(logging.ERROR)"
      ]
    },
    {
      "cell_type": "markdown",
      "metadata": {
        "id": "5Yw4O_8oKoSc"
      },
      "source": [
        "In the cell below we create a video of our agent interacting with the Lunar Lander environment using the trained `q_network`. The video is saved to the `videos` folder with the given `filename`. We use the `utils.embed_mp4` function to embed the video in the Jupyter Notebook so that we can see it here directly without having to download it.\n",
        "\n",
        "We should note that since the lunar lander starts with a random initial force applied to its center of mass, every time you run the cell below you will see a different video. If the agent was trained properly, it should be able to land the lunar lander in the landing pad every time, regardless of the initial force applied to its center of mass."
      ]
    },
    {
      "cell_type": "code",
      "execution_count": null,
      "metadata": {
        "id": "3Ttb_zLeJKiG"
      },
      "outputs": [],
      "source": [
        "filename = \"./videos/lunar_lander.mp4\"\n",
        "\n",
        "utils.create_video(filename, env, q_network)\n",
        "utils.embed_mp4(filename)"
      ]
    },
    {
      "cell_type": "markdown",
      "metadata": {
        "id": "OdtWdDvxKoSl"
      },
      "source": [
        "<a name=\"11\"></a>\n",
        "## 11 - Congratulations!\n",
        "\n",
        "You have successfully used Deep Q-Learning with Experience Replay to train an agent to land a lunar lander safely on a landing pad on the surface of the moon. Congratulations!"
      ]
    },
    {
      "cell_type": "markdown",
      "metadata": {
        "id": "0fq8cO6xKoSn"
      },
      "source": [
        "<a name=\"12\"></a>\n",
        "## 12 - References\n",
        "\n",
        "If you would like to learn more about Deep Q-Learning, we recommend you check out the following papers.\n",
        "\n",
        "\n",
        "* [Human-level Control Through Deep Reinforcement Learning](https://storage.googleapis.com/deepmind-media/dqn/DQNNaturePaper.pdf)\n",
        "\n",
        "\n",
        "* [Continuous Control with Deep Reinforcement Learning](https://arxiv.org/pdf/1509.02971.pdf)\n",
        "\n",
        "\n",
        "* [Playing Atari with Deep Reinforcement Learning](https://www.cs.toronto.edu/~vmnih/docs/dqn.pdf)"
      ]
    }
  ],
  "metadata": {
    "colab": {
      "provenance": [],
      "include_colab_link": true
    },
    "kernelspec": {
      "display_name": "Python 3",
      "name": "python3"
    },
    "language_info": {
      "codemirror_mode": {
        "name": "ipython",
        "version": 3
      },
      "file_extension": ".py",
      "mimetype": "text/x-python",
      "name": "python",
      "nbconvert_exporter": "python",
      "pygments_lexer": "ipython3",
      "version": "3.8.13"
    }
  },
  "nbformat": 4,
  "nbformat_minor": 0
}