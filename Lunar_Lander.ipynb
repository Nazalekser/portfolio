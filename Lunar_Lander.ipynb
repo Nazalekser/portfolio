{
  "cells": [
    {
      "cell_type": "markdown",
      "metadata": {
        "id": "view-in-github",
        "colab_type": "text"
      },
      "source": [
        "<a href=\"https://colab.research.google.com/github/Nazalekser/portfolio/blob/main/Lunar_Lander.ipynb\" target=\"_parent\"><img src=\"https://colab.research.google.com/assets/colab-badge.svg\" alt=\"Open In Colab\"/></a>"
      ]
    },
    {
      "cell_type": "markdown",
      "metadata": {
        "id": "nZeK6GpJKoQf"
      },
      "source": [
        "# Deep Q-Learning - Lunar Lander\n",
        "\n",
        "In this assignment, you will train an agent to land a lunar lander safely on a landing pad on the surface of the moon.\n",
        "\n",
        "\n",
        "# Outline\n",
        "- [ 1 - Import Packages](#1)\n",
        "- [ 2 - Hyperparameters](#2)\n",
        "- [ 3 - The Lunar Lander Environment](#3)\n",
        "  - [ 3.1 Action Space](#3.1)\n",
        "  - [ 3.2 Observation Space](#3.2)\n",
        "  - [ 3.3 Rewards](#3.3)\n",
        "  - [ 3.4 Episode Termination](#3.4)\n",
        "- [ 4 - Load the Environment](#4)\n",
        "- [ 5 - Interacting with the Gym Environment](#5)\n",
        "    - [ 5.1 Exploring the Environment's Dynamics](#5.1)\n",
        "- [ 6 - Deep Q-Learning](#6)\n",
        "  - [ 6.1 Target Network](#6.1)\n",
        "    - [ Exercise 1](#ex01)\n",
        "  - [ 6.2 Experience Replay](#6.2)\n",
        "- [ 7 - Deep Q-Learning Algorithm with Experience Replay](#7)\n",
        "  - [ Exercise 2](#ex02)\n",
        "- [ 8 - Update the Network Weights](#8)\n",
        "- [ 9 - Train the Agent](#9)\n",
        "- [ 10 - See the Trained Agent In Action](#10)\n",
        "- [ 11 - Congratulations!](#11)\n",
        "- [ 12 - References](#12)\n"
      ]
    },
    {
      "cell_type": "markdown",
      "metadata": {
        "id": "k_azJrhOKoQt"
      },
      "source": [
        "<a name=\"1\"></a>\n",
        "## 1 - Import Packages\n",
        "\n",
        "We'll make use of the following packages:\n",
        "- `numpy` is a package for scientific computing in python.\n",
        "- `deque` will be our data structure for our memory buffer.\n",
        "- `namedtuple` will be used to store the experience tuples.\n",
        "- The `gym` toolkit is a collection of environments that can be used to test reinforcement learning algorithms. We should note that in this notebook we are using `gym` version `0.24.0`.\n",
        "- `PIL.Image` and `pyvirtualdisplay` are needed to render the Lunar Lander environment.\n",
        "- We will use several modules from the `tensorflow.keras` framework for building deep learning models.\n",
        "- `utils` is a module that contains helper functions for this assignment. You do not need to modify the code in this file.\n",
        "\n",
        "Run the cell below to import all the necessary packages."
      ]
    },
    {
      "cell_type": "code",
      "execution_count": 1,
      "metadata": {
        "colab": {
          "base_uri": "https://localhost:8080/"
        },
        "id": "yJ-iVX9Fa14f",
        "outputId": "ff592032-d7b8-4dd2-aa58-52bfa2f5ea23"
      },
      "outputs": [
        {
          "output_type": "stream",
          "name": "stdout",
          "text": [
            "Reading package lists... Done\n",
            "Building dependency tree... Done\n",
            "Reading state information... Done\n",
            "The following additional packages will be installed:\n",
            "  swig4.0\n",
            "Suggested packages:\n",
            "  swig-doc swig-examples swig4.0-examples swig4.0-doc\n",
            "The following NEW packages will be installed:\n",
            "  swig swig4.0\n",
            "0 upgraded, 2 newly installed, 0 to remove and 18 not upgraded.\n",
            "Need to get 1,116 kB of archives.\n",
            "After this operation, 5,542 kB of additional disk space will be used.\n",
            "Get:1 http://archive.ubuntu.com/ubuntu jammy/universe amd64 swig4.0 amd64 4.0.2-1ubuntu1 [1,110 kB]\n",
            "Get:2 http://archive.ubuntu.com/ubuntu jammy/universe amd64 swig all 4.0.2-1ubuntu1 [5,632 B]\n",
            "Fetched 1,116 kB in 0s (3,459 kB/s)\n",
            "Selecting previously unselected package swig4.0.\n",
            "(Reading database ... 120875 files and directories currently installed.)\n",
            "Preparing to unpack .../swig4.0_4.0.2-1ubuntu1_amd64.deb ...\n",
            "Unpacking swig4.0 (4.0.2-1ubuntu1) ...\n",
            "Selecting previously unselected package swig.\n",
            "Preparing to unpack .../swig_4.0.2-1ubuntu1_all.deb ...\n",
            "Unpacking swig (4.0.2-1ubuntu1) ...\n",
            "Setting up swig4.0 (4.0.2-1ubuntu1) ...\n",
            "Setting up swig (4.0.2-1ubuntu1) ...\n",
            "Processing triggers for man-db (2.10.2-1) ...\n",
            "Reading package lists... Done\n",
            "Building dependency tree... Done\n",
            "Reading state information... Done\n",
            "Package python-dev is not available, but is referred to by another package.\n",
            "This may mean that the package is missing, has been obsoleted, or\n",
            "is only available from another source\n",
            "However the following packages replace it:\n",
            "  python2-dev python2 python-dev-is-python3\n",
            "\n",
            "E: Package 'python-dev' has no installation candidate\n"
          ]
        }
      ],
      "source": [
        "!apt-get install -y swig\n",
        "!apt-get install -y python-dev"
      ]
    },
    {
      "cell_type": "code",
      "execution_count": 2,
      "metadata": {
        "colab": {
          "base_uri": "https://localhost:8080/"
        },
        "id": "uLEv_Fl6KoQ1",
        "outputId": "70aeed2b-7c73-4b00-9523-91d51b9b4d3d"
      },
      "outputs": [
        {
          "output_type": "stream",
          "name": "stdout",
          "text": [
            "Collecting pyvirtualdisplay\n",
            "  Downloading PyVirtualDisplay-3.0-py3-none-any.whl (15 kB)\n",
            "Installing collected packages: pyvirtualdisplay\n",
            "Successfully installed pyvirtualdisplay-3.0\n",
            "Requirement already satisfied: gym[box2d] in /usr/local/lib/python3.10/dist-packages (0.25.2)\n",
            "Requirement already satisfied: numpy>=1.18.0 in /usr/local/lib/python3.10/dist-packages (from gym[box2d]) (1.23.5)\n",
            "Requirement already satisfied: cloudpickle>=1.2.0 in /usr/local/lib/python3.10/dist-packages (from gym[box2d]) (2.2.1)\n",
            "Requirement already satisfied: gym-notices>=0.0.4 in /usr/local/lib/python3.10/dist-packages (from gym[box2d]) (0.0.8)\n",
            "Collecting box2d-py==2.3.5 (from gym[box2d])\n",
            "  Downloading box2d-py-2.3.5.tar.gz (374 kB)\n",
            "\u001b[2K     \u001b[90m━━━━━━━━━━━━━━━━━━━━━━━━━━━━━━━━━━━━━━━━\u001b[0m \u001b[32m374.4/374.4 kB\u001b[0m \u001b[31m5.9 MB/s\u001b[0m eta \u001b[36m0:00:00\u001b[0m\n",
            "\u001b[?25h  Preparing metadata (setup.py) ... \u001b[?25l\u001b[?25hdone\n",
            "Collecting pygame==2.1.0 (from gym[box2d])\n",
            "  Downloading pygame-2.1.0-cp310-cp310-manylinux_2_17_x86_64.manylinux2014_x86_64.whl (18.3 MB)\n",
            "\u001b[2K     \u001b[90m━━━━━━━━━━━━━━━━━━━━━━━━━━━━━━━━━━━━━━━━\u001b[0m \u001b[32m18.3/18.3 MB\u001b[0m \u001b[31m68.2 MB/s\u001b[0m eta \u001b[36m0:00:00\u001b[0m\n",
            "\u001b[?25hCollecting swig==4.* (from gym[box2d])\n",
            "  Downloading swig-4.1.1-py2.py3-none-manylinux_2_5_x86_64.manylinux1_x86_64.whl (1.8 MB)\n",
            "\u001b[2K     \u001b[90m━━━━━━━━━━━━━━━━━━━━━━━━━━━━━━━━━━━━━━━━\u001b[0m \u001b[32m1.8/1.8 MB\u001b[0m \u001b[31m82.6 MB/s\u001b[0m eta \u001b[36m0:00:00\u001b[0m\n",
            "\u001b[?25hBuilding wheels for collected packages: box2d-py\n",
            "  Building wheel for box2d-py (setup.py) ... \u001b[?25l\u001b[?25hdone\n",
            "  Created wheel for box2d-py: filename=box2d_py-2.3.5-cp310-cp310-linux_x86_64.whl size=2349118 sha256=4630857ba3eccb37bdfb78f8c3fe467142f106283663d00f15d044b6acbb2f13\n",
            "  Stored in directory: /root/.cache/pip/wheels/db/8f/6a/eaaadf056fba10a98d986f6dce954e6201ba3126926fc5ad9e\n",
            "Successfully built box2d-py\n",
            "Installing collected packages: swig, box2d-py, pygame\n",
            "  Attempting uninstall: pygame\n",
            "    Found existing installation: pygame 2.5.2\n",
            "    Uninstalling pygame-2.5.2:\n",
            "      Successfully uninstalled pygame-2.5.2\n",
            "Successfully installed box2d-py-2.3.5 pygame-2.1.0 swig-4.1.1\n"
          ]
        }
      ],
      "source": [
        "!pip install pyvirtualdisplay\n",
        "!pip install gym[box2d]"
      ]
    },
    {
      "cell_type": "code",
      "execution_count": 3,
      "metadata": {
        "colab": {
          "base_uri": "https://localhost:8080/"
        },
        "id": "KowhFSqGK8XI",
        "outputId": "e9c33f10-a204-4233-a30e-2ea2691124b3"
      },
      "outputs": [
        {
          "output_type": "stream",
          "name": "stdout",
          "text": [
            "Mounted at /content/drive\n"
          ]
        }
      ],
      "source": [
        "from google.colab import drive\n",
        "drive.mount('/content/drive')"
      ]
    },
    {
      "cell_type": "code",
      "execution_count": 4,
      "metadata": {
        "colab": {
          "base_uri": "https://localhost:8080/"
        },
        "id": "uclJNOH4yxho",
        "outputId": "0cf31b48-dab2-47c0-b980-317b49fdfa19"
      },
      "outputs": [
        {
          "output_type": "stream",
          "name": "stdout",
          "text": [
            "/content/drive/MyDrive/C3W3A1\n"
          ]
        }
      ],
      "source": [
        "%cd /content/drive/MyDrive/C3W3A1/"
      ]
    },
    {
      "cell_type": "code",
      "execution_count": 5,
      "metadata": {
        "id": "KYbOPKRtfQOr"
      },
      "outputs": [],
      "source": [
        "import time\n",
        "from collections import deque, namedtuple\n",
        "\n",
        "import gym\n",
        "import numpy as np\n",
        "import PIL.Image\n",
        "import tensorflow as tf\n",
        "import utils\n",
        "\n",
        "from pyvirtualdisplay import Display\n",
        "from tensorflow.keras import Sequential\n",
        "from tensorflow.keras.layers import Dense, Input, BatchNormalization\n",
        "from tensorflow.keras.losses import MSE\n",
        "from tensorflow.keras.optimizers import Adam"
      ]
    },
    {
      "cell_type": "code",
      "execution_count": 6,
      "metadata": {
        "colab": {
          "base_uri": "https://localhost:8080/"
        },
        "id": "QmNiA8YR1qle",
        "outputId": "f320faa0-8461-4d89-a52f-6b2670115612"
      },
      "outputs": [
        {
          "output_type": "stream",
          "name": "stderr",
          "text": [
            "/usr/local/lib/python3.10/dist-packages/ipykernel/ipkernel.py:283: DeprecationWarning: `should_run_async` will not call `transform_cell` automatically in the future. Please pass the result to `transformed_cell` argument and any exception that happen during thetransform in `preprocessing_exc_tuple` in IPython 7.17 and above.\n",
            "  and should_run_async(code)\n"
          ]
        }
      ],
      "source": [
        "# Set the random seed for TensorFlow\n",
        "tf.random.set_seed(utils.SEED)"
      ]
    },
    {
      "cell_type": "markdown",
      "metadata": {
        "id": "6lhB17iGKoRK"
      },
      "source": [
        "<a name=\"2\"></a>\n",
        "## 2 - Hyperparameters\n",
        "\n",
        "Run the cell below to set the hyperparameters."
      ]
    },
    {
      "cell_type": "code",
      "execution_count": 7,
      "metadata": {
        "id": "6ctCZxzUKoRP"
      },
      "outputs": [],
      "source": [
        "MEMORY_SIZE = 100_000     # size of memory buffer\n",
        "GAMMA = 0.995             # discount factor\n",
        "ALPHA = 1e-3              # learning rate\n",
        "NUM_STEPS_FOR_UPDATE = 4  # perform a learning update every C time steps"
      ]
    },
    {
      "cell_type": "markdown",
      "metadata": {
        "id": "1jgRL4A_KoRR"
      },
      "source": [
        "<a name=\"3\"></a>\n",
        "## 3 - The Lunar Lander Environment\n",
        "\n",
        "In this notebook we will be using [OpenAI's Gym Library](https://www.gymlibrary.ml/). The Gym library provides a wide variety of environments for reinforcement learning. To put it simply, an environment represents a problem or task to be solved. In this notebook, we will try to solve the Lunar Lander environment using reinforcement learning.\n",
        "\n",
        "The goal of the Lunar Lander environment is to land the lunar lander safely on the landing pad on the surface of the moon. The landing pad is designated by two flag poles and it is always at coordinates `(0,0)` but the lander is also allowed to land outside of the landing pad. The lander starts at the top center of the environment with a random initial force applied to its center of mass and has infinite fuel. The environment is considered solved if you get `200` points.\n",
        "\n",
        "<br>\n",
        "<br>\n",
        "<figure>\n",
        "  <img src = \"https://drive.google.com/uc?id=1DNInZqvabzEdywftpiMfuR3QTy1674PE\" width = 40%>\n",
        "      <figcaption style = \"text-align: center; font-style: italic\">Fig 1. Lunar Lander Environment.</figcaption>\n",
        "</figure>\n",
        "\n",
        "\n",
        "<a name=\"3.1\"></a>\n",
        "### 3.1 Action Space\n",
        "\n",
        "The agent has four discrete actions available:\n",
        "\n",
        "* Do nothing.\n",
        "* Fire right engine.\n",
        "* Fire main engine.\n",
        "* Fire left engine.\n",
        "\n",
        "Each action has a corresponding numerical value:\n",
        "\n",
        "```python\n",
        "Do nothing = 0\n",
        "Fire right engine = 1\n",
        "Fire main engine = 2\n",
        "Fire left engine = 3\n",
        "```\n",
        "\n",
        "<a name=\"3.2\"></a>\n",
        "### 3.2 Observation Space\n",
        "\n",
        "The agent's observation space consists of a state vector with 8 variables:\n",
        "\n",
        "* Its $(x,y)$ coordinates. The landing pad is always at coordinates $(0,0)$.\n",
        "* Its linear velocities $(\\dot x,\\dot y)$.\n",
        "* Its angle $\\theta$.\n",
        "* Its angular velocity $\\dot \\theta$.\n",
        "* Two booleans, $l$ and $r$, that represent whether each leg is in contact with the ground or not.\n",
        "\n",
        "<a name=\"3.3\"></a>\n",
        "### 3.3 Rewards\n",
        "\n",
        "The Lunar Lander environment has the following reward system:\n",
        "\n",
        "* Landing on the landing pad and coming to rest is about 100-140 points.\n",
        "* If the lander moves away from the landing pad, it loses reward.\n",
        "* If the lander crashes, it receives -100 points.\n",
        "* If the lander comes to rest, it receives +100 points.\n",
        "* Each leg with ground contact is +10 points.\n",
        "* Firing the main engine is -0.3 points each frame.\n",
        "* Firing the side engine is -0.03 points each frame.\n",
        "\n",
        "<a name=\"3.4\"></a>\n",
        "### 3.4 Episode Termination\n",
        "\n",
        "An episode ends (i.e the environment enters a terminal state) if:\n",
        "\n",
        "* The lunar lander crashes (i.e if the body of the lunar lander comes in contact with the surface of the moon).\n",
        "\n",
        "* The lander's $x$-coordinate is greater than 1.\n",
        "\n",
        "You can check out the [Open AI Gym documentation](https://www.gymlibrary.ml/environments/box2d/lunar_lander/) for a full description of the environment."
      ]
    },
    {
      "cell_type": "markdown",
      "metadata": {
        "id": "wrlDC9u0KoRV"
      },
      "source": [
        "<a name=\"4\"></a>\n",
        "## 4 - Load the Environment\n",
        "\n",
        "We start by loading the `LunarLander-v2` environment from the `gym` library by using the `.make()` method. `LunarLander-v2` is the latest version of the Lunar Lander environment and you can read about its version history in the [Open AI Gym documentation](https://www.gymlibrary.ml/environments/box2d/lunar_lander/#version-history)."
      ]
    },
    {
      "cell_type": "code",
      "execution_count": 8,
      "metadata": {
        "colab": {
          "base_uri": "https://localhost:8080/"
        },
        "id": "ILVMYKewfR0n",
        "outputId": "985386b6-a3c4-43ab-d922-f83b605a85dd"
      },
      "outputs": [
        {
          "output_type": "stream",
          "name": "stderr",
          "text": [
            "/usr/local/lib/python3.10/dist-packages/gym/core.py:317: DeprecationWarning: \u001b[33mWARN: Initializing wrapper in old step API which returns one bool instead of two. It is recommended to set `new_step_api=True` to use new step API. This will be the default behaviour in future.\u001b[0m\n",
            "  deprecation(\n",
            "/usr/local/lib/python3.10/dist-packages/gym/wrappers/step_api_compatibility.py:39: DeprecationWarning: \u001b[33mWARN: Initializing environment in old step API which returns one bool instead of two. It is recommended to set `new_step_api=True` to use new step API. This will be the default behaviour in future.\u001b[0m\n",
            "  deprecation(\n"
          ]
        }
      ],
      "source": [
        "env = gym.make('LunarLander-v2')"
      ]
    },
    {
      "cell_type": "markdown",
      "metadata": {
        "id": "CF5eFwiNKoRc"
      },
      "source": [
        "Once we load the environment we use the `.reset()` method to reset the environment to the initial state. The lander starts at the top center of the environment and we can render the first frame of the environment by using the `.render()` method."
      ]
    },
    {
      "cell_type": "code",
      "execution_count": 9,
      "metadata": {
        "colab": {
          "base_uri": "https://localhost:8080/",
          "height": 491
        },
        "id": "Tai5ZawIKoRe",
        "outputId": "e668d6af-233a-45a2-b48b-36ea261d2a47"
      },
      "outputs": [
        {
          "output_type": "stream",
          "name": "stderr",
          "text": [
            "/usr/local/lib/python3.10/dist-packages/gym/core.py:43: DeprecationWarning: \u001b[33mWARN: The argument mode in render method is deprecated; use render_mode during environment initialization instead.\n",
            "See here for more information: https://www.gymlibrary.ml/content/api/\u001b[0m\n",
            "  deprecation(\n"
          ]
        },
        {
          "output_type": "execute_result",
          "data": {
            "text/plain": [
              "<PIL.Image.Image image mode=RGB size=600x400>"
            ],
            "image/png": "[encoded data removed]"
          },
          "metadata": {},
          "execution_count": 9
        }
      ],
      "source": [
        "env.reset()\n",
        "PIL.Image.fromarray(env.render(mode='rgb_array'))"
      ]
    },
    {
      "cell_type": "markdown",
      "metadata": {
        "id": "HauFLkYVKoRf"
      },
      "source": [
        "In order to build our neural network later on we need to know the size of the state vector and the number of valid actions. We can get this information from our environment by using the `.observation_space.shape` and `action_space.n` methods, respectively."
      ]
    },
    {
      "cell_type": "code",
      "execution_count": 10,
      "metadata": {
        "colab": {
          "base_uri": "https://localhost:8080/"
        },
        "id": "x3fdqdG4CUu2",
        "outputId": "04b3e55c-69ed-4ac9-92d3-fc2dbda6fa12"
      },
      "outputs": [
        {
          "output_type": "stream",
          "name": "stdout",
          "text": [
            "State Shape: (8,)\n",
            "Number of actions: 4\n"
          ]
        }
      ],
      "source": [
        "state_size = env.observation_space.shape\n",
        "num_actions = env.action_space.n\n",
        "\n",
        "print('State Shape:', state_size)\n",
        "print('Number of actions:', num_actions)"
      ]
    },
    {
      "cell_type": "markdown",
      "metadata": {
        "id": "iTUeEfSDKoRi"
      },
      "source": [
        "<a name=\"5\"></a>\n",
        "## 5 - Interacting with the Gym Environment\n",
        "\n",
        "The Gym library implements the standard “agent-environment loop” formalism:\n",
        "\n",
        "<br>\n",
        "<center>\n",
        "<img src = \"https://drive.google.com/uc?id=1sKOlMnoPC7yX8V7dm5P2jhnXL-aNztJM\" width = 90% style = \"border: thin silver solid; padding: 0px\">\n",
        "<figcaption style = \"text-align:center; font-style:italic\">Fig 2. Agent-environment Loop Formalism.</figcaption>\n",
        "</center>\n",
        "<br>\n",
        "\n",
        "In the standard “agent-environment loop” formalism, an agent interacts with the environment in discrete time steps $t=0,1,2,...$. At each time step $t$, the agent uses a policy $\\pi$ to select an action $A_t$ based on its observation of the environment's state $S_t$. The agent receives a numerical reward $R_t$ and on the next time step, moves to a new state $S_{t+1}$.\n",
        "\n",
        "<a name=\"5.1\"></a>\n",
        "### 5.1 Exploring the Environment's Dynamics\n",
        "\n",
        "In Open AI's Gym environments, we use the `.step()` method to run a single time step of the environment's dynamics. In the version of `gym` that we are using the `.step()` method accepts an action and returns four values:\n",
        "\n",
        "* `observation` (**object**): an environment-specific object representing your observation of the environment. In the Lunar Lander environment this corresponds to a numpy array containing the positions and velocities of the lander as described in section [3.2 Observation Space](#3.2).\n",
        "\n",
        "\n",
        "* `reward` (**float**): amount of reward returned as a result of taking the given action. In the Lunar Lander environment this corresponds to a float of type `numpy.float64` as described in section [3.3 Rewards](#3.3).\n",
        "\n",
        "\n",
        "* `done` (**boolean**): When done is `True`, it indicates the episode has terminated and it’s time to reset the environment.\n",
        "\n",
        "\n",
        "* `info` (**dictionary**): diagnostic information useful for debugging. We won't be using this variable in this notebook but it is shown here for completeness.\n",
        "\n",
        "To begin an episode, we need to reset the environment to an initial state. We do this by using the `.reset()` method."
      ]
    },
    {
      "cell_type": "code",
      "execution_count": 11,
      "metadata": {
        "id": "ZA3z5-1hKoRm"
      },
      "outputs": [],
      "source": [
        "# Reset the environment and get the initial state.\n",
        "initial_state = env.reset()"
      ]
    },
    {
      "cell_type": "markdown",
      "metadata": {
        "id": "qsumWC4WKoRo"
      },
      "source": [
        "Once the environment is reset, the agent can start taking actions in the environment by using the `.step()` method. Note that the agent can only take one action per time step.\n",
        "\n",
        "In the cell below you can select different actions and see how the returned values change depending on the action taken. Remember that in this environment the agent has four discrete actions available and we specify them in code by using their corresponding numerical value:\n",
        "\n",
        "```python\n",
        "Do nothing = 0\n",
        "Fire right engine = 1\n",
        "Fire main engine = 2\n",
        "Fire left engine = 3\n",
        "```"
      ]
    },
    {
      "cell_type": "code",
      "execution_count": 12,
      "metadata": {
        "colab": {
          "base_uri": "https://localhost:8080/"
        },
        "id": "_1esh_LVKoRp",
        "outputId": "ec9ce07e-3757-4189-bac0-799c5fd21c44"
      },
      "outputs": [
        {
          "output_type": "stream",
          "name": "stdout",
          "text": [
            "Initial State: [-0.005 1.418 -0.527 0.302 0.006 0.119 0.000 0.000]\n",
            "Action: 0\n",
            "Next State: [-0.010 1.424 -0.527 0.276 0.012 0.118 0.000 0.000]\n",
            "Reward Received: 0.08331102366477694\n",
            "Episode Terminated: False\n",
            "Info: {}\n"
          ]
        }
      ],
      "source": [
        "# Select an action\n",
        "action = 0\n",
        "\n",
        "# Run a single time step of the environment's dynamics with the given action.\n",
        "next_state, reward, done, info = env.step(action)\n",
        "\n",
        "with np.printoptions(formatter={'float': '{:.3f}'.format}):\n",
        "    print(\"Initial State:\", initial_state)\n",
        "    print(\"Action:\", action)\n",
        "    print(\"Next State:\", next_state)\n",
        "    print(\"Reward Received:\", reward)\n",
        "    print(\"Episode Terminated:\", done)\n",
        "    print(\"Info:\", info)"
      ]
    },
    {
      "cell_type": "markdown",
      "metadata": {
        "id": "1e8Hd3RlKoRr"
      },
      "source": [
        "In practice, when we train the agent we use a loop to allow the agent to take many consecutive actions during an episode."
      ]
    },
    {
      "cell_type": "markdown",
      "metadata": {
        "id": "3hdRzKnrKoRs"
      },
      "source": [
        "<a name=\"6\"></a>\n",
        "## 6 - Deep Q-Learning\n",
        "\n",
        "In cases where both the state and action space are discrete we can estimate the action-value function iteratively by using the Bellman equation:\n",
        "\n",
        "$$\n",
        "Q_{i+1}(s,a) = R + \\gamma \\max_{a'}Q_i(s',a')\n",
        "$$\n",
        "\n",
        "This iterative method converges to the optimal action-value function $Q^*(s,a)$ as $i\\to\\infty$. This means that the agent just needs to gradually explore the state-action space and keep updating the estimate of $Q(s,a)$ until it converges to the optimal action-value function $Q^*(s,a)$. However, in cases where the state space is continuous it becomes practically impossible to explore the entire state-action space. Consequently, this also makes it practically impossible to gradually estimate $Q(s,a)$ until it converges to $Q^*(s,a)$.\n",
        "\n",
        "In the Deep $Q$-Learning, we solve this problem by using a neural network to estimate the action-value function $Q(s,a)\\approx Q^*(s,a)$. We call this neural network a $Q$-Network and it can be trained by adjusting its weights at each iteration to minimize the mean-squared error in the Bellman equation.\n",
        "\n",
        "Unfortunately, using neural networks in reinforcement learning to estimate action-value functions has proven to be highly unstable. Luckily, there's a couple of techniques that can be employed to avoid instabilities. These techniques consist of using a ***Target Network*** and ***Experience Replay***. We will explore these two techniques in the following sections."
      ]
    },
    {
      "cell_type": "markdown",
      "metadata": {
        "id": "cAvqdQNvKoRu"
      },
      "source": [
        "<a name=\"6.1\"></a>\n",
        "### 6.1 Target Network\n",
        "\n",
        "We can train the $Q$-Network by adjusting it's weights at each iteration to minimize the mean-squared error in the Bellman equation, where the target values are given by:\n",
        "\n",
        "$$\n",
        "y = R + \\gamma \\max_{a'}Q(s',a';w)\n",
        "$$\n",
        "\n",
        "where $w$ are the weights of the $Q$-Network. This means that we are adjusting the weights $w$ at each iteration to minimize the following error:\n",
        "\n",
        "$$\n",
        "\\overbrace{\\underbrace{R + \\gamma \\max_{a'}Q(s',a'; w)}_{\\rm {y~target}} - Q(s,a;w)}^{\\rm {Error}}\n",
        "$$\n",
        "\n",
        "Notice that this forms a problem because the $y$ target is changing on every iteration. Having a constantly moving target can lead to oscillations and instabilities. To avoid this, we can create\n",
        "a separate neural network for generating the $y$ targets. We call this separate neural network the **target $\\hat Q$-Network** and it will have the same architecture as the original $Q$-Network. By using the target $\\hat Q$-Network, the above error becomes:\n",
        "\n",
        "$$\n",
        "\\overbrace{\\underbrace{R + \\gamma \\max_{a'}\\hat{Q}(s',a'; w^-)}_{\\rm {y~target}} - Q(s,a;w)}^{\\rm {Error}}\n",
        "$$\n",
        "\n",
        "where $w^-$ and $w$ are the weights the target $\\hat Q$-Network and $Q$-Network, respectively.\n",
        "\n",
        "In practice, we will use the following algorithm: every $C$ time steps we will use the $\\hat Q$-Network to generate the $y$ targets and update the weights of the target $\\hat Q$-Network using the weights of the $Q$-Network. We will update the weights $w^-$ of the the target $\\hat Q$-Network using a **soft update**. This means that we will update the weights $w^-$ using the following rule:\n",
        "\n",
        "$$\n",
        "w^-\\leftarrow \\tau w + (1 - \\tau) w^-\n",
        "$$\n",
        "\n",
        "where $\\tau\\ll 1$. By using the soft update, we are ensuring that the target values, $y$, change slowly, which greatly improves the stability of our learning algorithm."
      ]
    },
    {
      "cell_type": "code",
      "execution_count": 13,
      "metadata": {
        "id": "hwM12OWzKoRy"
      },
      "outputs": [],
      "source": [
        "# Create the Q-Network\n",
        "q_network = Sequential([\n",
        "    Input(shape=state_size),\n",
        "    Dense(units=64, activation='relu'),\n",
        "    BatchNormalization(),\n",
        "    Dense(units=64, activation='relu'),\n",
        "    Dense(units=num_actions, activation='linear')\n",
        "    ])\n",
        "\n",
        "# Create the target Q^-Network\n",
        "target_q_network = Sequential([\n",
        "    Input(shape=state_size),\n",
        "    Dense(units=64, activation='relu'),\n",
        "    BatchNormalization(),\n",
        "    Dense(units=64, activation='relu'),\n",
        "    Dense(units=num_actions, activation='linear')\n",
        "    ])\n",
        "\n",
        "optimizer = Adam(learning_rate=ALPHA)"
      ]
    },
    {
      "cell_type": "markdown",
      "metadata": {
        "id": "daqj1j5pKoR4"
      },
      "source": [
        "<a name=\"6.2\"></a>\n",
        "### 6.2 Experience Replay\n",
        "\n",
        "When an agent interacts with the environment, the states, actions, and rewards the agent experiences are sequential by nature. If the agent tries to learn from these consecutive experiences it can run into problems due to the strong correlations between them. To avoid this, we employ a technique known as **Experience Replay** to generate uncorrelated experiences for training our agent. Experience replay consists of storing the agent's experiences (i.e the states, actions, and rewards the agent receives) in a memory buffer and then sampling a random mini-batch of experiences from the buffer to do the learning. The experience tuples $(S_t, A_t, R_t, S_{t+1})$ will be added to the memory buffer at each time step as the agent interacts with the environment.\n",
        "\n",
        "For convenience, we will store the experiences as named tuples."
      ]
    },
    {
      "cell_type": "code",
      "execution_count": 14,
      "metadata": {
        "id": "80dW6mqQKoR5"
      },
      "outputs": [],
      "source": [
        "# Store experiences as named tuples\n",
        "experience = namedtuple(\"Experience\", field_names=[\"state\", \"action\", \"reward\", \"next_state\", \"done\"])"
      ]
    },
    {
      "cell_type": "markdown",
      "metadata": {
        "id": "p9xaJ-0iKoR6"
      },
      "source": [
        "By using experience replay we avoid problematic correlations, oscillations and instabilities. In addition, experience replay also allows the agent to potentially use the same experience in multiple weight updates, which increases data efficiency."
      ]
    },
    {
      "cell_type": "markdown",
      "metadata": {
        "id": "_E9XREaPKoR7"
      },
      "source": [
        "<a name=\"7\"></a>\n",
        "## 7 - Deep Q-Learning Algorithm with Experience Replay\n",
        "\n",
        "Now that we know all the techniques that we are going to use, we can put them togther to arrive at the Deep Q-Learning Algorithm With Experience Replay.\n"
      ]
    },
    {
      "cell_type": "code",
      "execution_count": 15,
      "metadata": {
        "id": "StsK1wI0KoR9"
      },
      "outputs": [],
      "source": [
        "def compute_loss(experiences, gamma, q_network, target_q_network):\n",
        "    \"\"\"\n",
        "    Calculates the loss.\n",
        "\n",
        "    Args:\n",
        "      experiences: (tuple) tuple of [\"state\", \"action\", \"reward\", \"next_state\", \"done\"] namedtuples\n",
        "      gamma: (float) The discount factor.\n",
        "      q_network: (tf.keras.Sequential) Keras model for predicting the q_values\n",
        "      target_q_network: (tf.keras.Sequential) Karas model for predicting the targets\n",
        "\n",
        "    Returns:\n",
        "      loss: (TensorFlow Tensor(shape=(0,), dtype=int32)) the Mean-Squared Error between\n",
        "            the y targets and the Q(s,a) values.\n",
        "    \"\"\"\n",
        "\n",
        "    # Unpack the mini-batch of experience tuples\n",
        "    states, actions, rewards, next_states, done_vals = experiences\n",
        "\n",
        "    # Compute max Q^(s,a)\n",
        "    max_qsa = tf.reduce_max(target_q_network(next_states), axis=-1)\n",
        "\n",
        "    # Set y = R if episode terminates, otherwise set y = R + γ max Q^(s,a).\n",
        "    y_targets = rewards + (gamma * max_qsa * (1 - done_vals))\n",
        "\n",
        "    # Get the q_values\n",
        "    q_values = q_network(states)\n",
        "    q_values = tf.gather_nd(q_values, tf.stack([tf.range(q_values.shape[0]),\n",
        "                                                tf.cast(actions, tf.int32)], axis=1))\n",
        "\n",
        "    # Compute the loss\n",
        "    loss = MSE(y_targets, q_values)\n",
        "\n",
        "    return loss"
      ]
    },
    {
      "cell_type": "markdown",
      "metadata": {
        "id": "eOY2Q3H7KoSH"
      },
      "source": [
        "<a name=\"8\"></a>\n",
        "## 8 - Update the Network Weights\n",
        "\n",
        "We will use the `agent_learn` function below to implement lines ***12 -14*** of the algorithm outlined in [Fig 3](#9). The `agent_learn` function will update the weights of the $Q$ and target $\\hat Q$ networks using a custom training loop. Because we are using a custom training loop we need to retrieve the gradients via a `tf.GradientTape` instance, and then call `optimizer.apply_gradients()` to update the weights of our $Q$-Network. Note that we are also using the `@tf.function` decorator to increase performance. Without this decorator our training will take twice as long. If you would like to know more about how to increase performance with `@tf.function` take a look at the [TensorFlow documentation](https://www.tensorflow.org/guide/function).\n",
        "\n",
        "The last line of this function updates the weights of the target $\\hat Q$-Network using a [soft update](#6.1). If you want to know how this is implemented in code we encourage you to take a look at the `utils.update_target_network` function in the `utils` module."
      ]
    },
    {
      "cell_type": "code",
      "execution_count": 16,
      "metadata": {
        "id": "3zGMNAg2KoSK"
      },
      "outputs": [],
      "source": [
        "@tf.function\n",
        "def agent_learn(experiences, gamma):\n",
        "    \"\"\"\n",
        "    Updates the weights of the Q networks.\n",
        "\n",
        "    Args:\n",
        "      experiences: (tuple) tuple of [\"state\", \"action\", \"reward\", \"next_state\", \"done\"] namedtuples\n",
        "      gamma: (float) The discount factor.\n",
        "\n",
        "    \"\"\"\n",
        "\n",
        "    # Calculate the loss\n",
        "    with tf.GradientTape() as tape:\n",
        "        loss = compute_loss(experiences, gamma, q_network, target_q_network)\n",
        "\n",
        "    # Get the gradients of the loss with respect to the weights.\n",
        "    gradients = tape.gradient(loss, q_network.trainable_variables)\n",
        "\n",
        "    # Update the weights of the q_network.\n",
        "    optimizer.apply_gradients(zip(gradients, q_network.trainable_variables))\n",
        "\n",
        "    # update the weights of target q_network\n",
        "    utils.update_target_network(q_network, target_q_network)"
      ]
    },
    {
      "cell_type": "markdown",
      "metadata": {
        "id": "FsY0x0N2KoSN"
      },
      "source": [
        "<a name=\"9\"></a>\n",
        "## 9 - Train the Agent\n",
        "\n",
        "We are now ready to train our agent to solve the Lunar Lander environment. In the cell below we will implement the algorithm in [Fig 3](#9) line by line (please note that we have included the same algorithm below for easy reference. This will prevent you from scrolling up and down the notebook):\n",
        "\n",
        "* **Line 1**: We initialize the `memory_buffer` with a capacity of $N =$ `MEMORY_SIZE`. Notice that we are using a `deque` as the data structure for our `memory_buffer`.\n",
        "\n",
        "\n",
        "* **Line 2**: We skip this line since we already initialized the `q_network`.\n",
        "\n",
        "\n",
        "* **Line 3**: We initialize the `target_q_network` by setting its weights to be equal to those of the `q_network`.\n",
        "\n",
        "\n",
        "* **Line 4**: We start the outer loop. Notice that we have set $M =$ `num_episodes = 2000`. This number is reasonable because the agent should be able to solve the Lunar Lander environment in less than `2000` episodes using this notebook's default parameters.\n",
        "\n",
        "\n",
        "* **Line 5**: We use the `.reset()` method to reset the environment to the initial state and get the initial state.\n",
        "\n",
        "\n",
        "* **Line 6**: We start the inner loop. Notice that we have set $T =$ `max_num_timesteps = 1000`. This means that the episode will automatically terminate if the episode hasn't terminated after `1000` time steps.\n",
        "\n",
        "\n",
        "* **Line 7**: The agent observes the current `state` and chooses an `action` using an $\\epsilon$-greedy policy. Our agent starts out using a value of $\\epsilon =$ `epsilon = 1` which yields an $\\epsilon$-greedy policy that is equivalent to the equiprobable random policy. This means that at the beginning of our training, the agent is just going to take random actions regardless of the observed `state`. As training progresses we will decrease the value of $\\epsilon$ slowly towards a minimum value using a given $\\epsilon$-decay rate. We want this minimum value to be close to zero because a value of $\\epsilon = 0$ will yield an $\\epsilon$-greedy policy that is equivalent to the greedy policy. This means that towards the end of training, the agent will lean towards selecting the `action` that it believes (based on its past experiences) will maximize $Q(s,a)$. We will set the minimum $\\epsilon$ value to be `0.01` and not exactly 0 because we always want to keep a little bit of exploration during training. If you want to know how this is implemented in code we encourage you to take a look at the `utils.get_action` function in the `utils` module.\n",
        "\n",
        "\n",
        "* **Line 8**: We use the `.step()` method to take the given `action` in the environment and get the `reward` and the `next_state`.\n",
        "\n",
        "\n",
        "* **Line 9**: We store the `experience(state, action, reward, next_state, done)` tuple in our `memory_buffer`. Notice that we also store the `done` variable so that we can keep track of when an episode terminates. This allowed us to set the $y$ targets.\n",
        "\n",
        "\n",
        "* **Line 10**: We check if the conditions are met to perform a learning update. We do this by using our custom `utils.check_update_conditions` function. This function checks if $C =$ `NUM_STEPS_FOR_UPDATE = 4` time steps have occured and if our `memory_buffer` has enough experience tuples to fill a mini-batch. For example, if the mini-batch size is `64`, then our `memory_buffer` should have at least `64` experience tuples in order to pass the latter condition. If the conditions are met, then the `utils.check_update_conditions` function will return a value of `True`, otherwise it will return a value of `False`.\n",
        "\n",
        "\n",
        "* **Lines 11 - 14**: If the `update` variable is `True` then we perform a learning update. The learning update consists of sampling a random mini-batch of experience tuples from our `memory_buffer`, setting the $y$ targets, performing gradient descent, and updating the weights of the networks. We will use the `agent_learn` function we defined in [Section 8](#8) to perform the latter 3.\n",
        "\n",
        "\n",
        "* **Line 15**: At the end of each iteration of the inner loop we set `next_state` as our new `state` so that the loop can start again from this new state. In addition, we check if the episode has reached a terminal state (i.e we check if `done = True`). If a terminal state has been reached, then we break out of the inner loop.\n",
        "\n",
        "\n",
        "* **Line 16**: At the end of each iteration of the outer loop we update the value of $\\epsilon$, and check if the environment has been solved. We consider that the environment has been solved if the agent receives an average of `200` points in the last `100` episodes. If the environment has not been solved we continue the outer loop and start a new episode.\n",
        "\n",
        "Finally, we wanted to note that we have included some extra variables to keep track of the total number of points the agent received in each episode. This will help us determine if the agent has solved the environment and it will also allow us to see how our agent performed during training. We also use the `time` module to measure how long the training takes.\n",
        "\n",
        "<br>\n",
        "<br>\n",
        "<figure>\n",
        "  <img src = \"https://drive.google.com/uc?id=1N_bOSKnPitWHUUdyHXBp9l6EqVmVEvCF\" width = 90% style = \"border: thin silver solid; padding: 0px\">\n",
        "      <figcaption style = \"text-align: center; font-style: italic\">Fig 3. Deep Q-Learning with Experience Replay.</figcaption>\n",
        "</figure>\n",
        "<br>\n",
        "\n",
        "**Note:** With this notebook's default parameters, the following cell takes between 10 to 15 minutes to run."
      ]
    },
    {
      "cell_type": "code",
      "execution_count": 17,
      "metadata": {
        "colab": {
          "base_uri": "https://localhost:8080/"
        },
        "id": "ALZYOXbxKoST",
        "outputId": "1668bd05-9125-4d41-9a6d-59cf1644a5d7"
      },
      "outputs": [
        {
          "output_type": "stream",
          "name": "stdout",
          "text": [
            "Episode 100 | Total point average of the last 100 episodes: -171.92\n",
            "Episode 200 | Total point average of the last 100 episodes: -92.56\n",
            "Episode 300 | Total point average of the last 100 episodes: -55.11\n",
            "Episode 400 | Total point average of the last 100 episodes: 48.43\n",
            "Episode 500 | Total point average of the last 100 episodes: 210.29\n",
            "Episode 600 | Total point average of the last 100 episodes: 219.20\n",
            "Episode 700 | Total point average of the last 100 episodes: 188.52\n",
            "Episode 783 | Total point average of the last 100 episodes: 246.64"
          ]
        },
        {
          "output_type": "stream",
          "name": "stderr",
          "text": [
            "/usr/local/lib/python3.10/dist-packages/keras/src/engine/training.py:3000: UserWarning: You are saving your model as an HDF5 file via `model.save()`. This file format is considered legacy. We recommend using instead the native Keras format, e.g. `model.save('my_model.keras')`.\n",
            "  saving_api.save_model(\n",
            "WARNING:tensorflow:Compiled the loaded model, but the compiled metrics have yet to be built. `model.compile_metrics` will be empty until you train or evaluate the model.\n"
          ]
        },
        {
          "output_type": "stream",
          "name": "stdout",
          "text": [
            "\rEpisode 784 | Total point average of the last 100 episodes: 252.01\n",
            "\n",
            "Environment solved in 784 episodes!\n",
            "\n",
            "Total Runtime: 2196.05 s (36.60 min)\n"
          ]
        }
      ],
      "source": [
        "start = time.time()\n",
        "\n",
        "num_episodes = 2000\n",
        "max_num_timesteps = 1000\n",
        "\n",
        "total_point_history = []\n",
        "\n",
        "num_p_av = 100    # number of total points to use for averaging\n",
        "epsilon = 1.0     # initial ε value for ε-greedy policy\n",
        "\n",
        "# Create a memory buffer D with capacity N\n",
        "memory_buffer = deque(maxlen=MEMORY_SIZE)\n",
        "\n",
        "# Set the target network weights equal to the Q-Network weights\n",
        "target_q_network.set_weights(q_network.get_weights())\n",
        "\n",
        "for i in range(num_episodes):\n",
        "\n",
        "    # Reset the environment to the initial state and get the initial state\n",
        "    state = env.reset()\n",
        "    total_points = 0\n",
        "\n",
        "    for t in range(max_num_timesteps):\n",
        "\n",
        "        # From the current state S choose an action A using an ε-greedy policy\n",
        "        state_qn = np.expand_dims(state, axis=0)  # state needs to be the right shape for the q_network\n",
        "        q_values = q_network(state_qn)\n",
        "        action = utils.get_action(q_values, epsilon)\n",
        "\n",
        "        # Take action A and receive reward R and the next state S'\n",
        "        next_state, reward, done, _ = env.step(action)\n",
        "\n",
        "        # Store experience tuple (S,A,R,S') in the memory buffer.\n",
        "        # We store the done variable as well for convenience.\n",
        "        memory_buffer.append(experience(state, action, reward, next_state, done))\n",
        "\n",
        "        # Only update the network every NUM_STEPS_FOR_UPDATE time steps.\n",
        "        update = utils.check_update_conditions(t, NUM_STEPS_FOR_UPDATE, memory_buffer)\n",
        "\n",
        "        if update:\n",
        "            # Sample random mini-batch of experience tuples (S,A,R,S') from D\n",
        "            experiences = utils.get_experiences(memory_buffer)\n",
        "\n",
        "            # Set the y targets, perform a gradient descent step,\n",
        "            # and update the network weights.\n",
        "            agent_learn(experiences, GAMMA)\n",
        "\n",
        "        state = next_state.copy()\n",
        "        total_points += reward\n",
        "\n",
        "        if done:\n",
        "            break\n",
        "\n",
        "    total_point_history.append(total_points)\n",
        "    av_latest_points = np.mean(total_point_history[-num_p_av:])\n",
        "\n",
        "    # Update the ε value\n",
        "    epsilon = utils.get_new_eps(epsilon)\n",
        "\n",
        "    print(f\"\\rEpisode {i+1} | Total point average of the last {num_p_av} episodes: {av_latest_points:.2f}\", end=\"\")\n",
        "\n",
        "    if (i+1) % num_p_av == 0:\n",
        "        print(f\"\\rEpisode {i+1} | Total point average of the last {num_p_av} episodes: {av_latest_points:.2f}\")\n",
        "\n",
        "    # We will consider that the environment is solved if we get an\n",
        "    # average of 250 points in the last 100 episodes.\n",
        "    if av_latest_points >= 250.0:\n",
        "        print(f\"\\n\\nEnvironment solved in {i+1} episodes!\")\n",
        "        q_network.save('lunar_lander_model.h5')\n",
        "        break\n",
        "\n",
        "tot_time = time.time() - start\n",
        "\n",
        "print(f\"\\nTotal Runtime: {tot_time:.2f} s ({(tot_time/60):.2f} min)\")"
      ]
    },
    {
      "cell_type": "markdown",
      "metadata": {
        "id": "rFnFaEH_KoSW"
      },
      "source": [
        "We can plot the point history to see how our agent improved during training."
      ]
    },
    {
      "cell_type": "code",
      "execution_count": 18,
      "metadata": {
        "id": "E_EUXxurfe8m",
        "colab": {
          "base_uri": "https://localhost:8080/",
          "height": 647
        },
        "outputId": "7498ef2a-6ba8-4323-e0b4-5ba533310591"
      },
      "outputs": [
        {
          "output_type": "display_data",
          "data": {
            "text/plain": [
              "<Figure size 1000x700 with 1 Axes>"
            ],
            "image/png": "[encoded data removed]"
          },
          "metadata": {}
        }
      ],
      "source": [
        "# Plot the point history\n",
        "utils.plot_history(total_point_history)"
      ]
    },
    {
      "cell_type": "markdown",
      "metadata": {
        "id": "c_xwgaX5MnYt"
      },
      "source": [
        "<a name=\"10\"></a>\n",
        "## 10 - See the Trained Agent In Action\n",
        "\n",
        "Now that we have trained our agent, we can see it in action. We will use the `utils.create_video` function to create a video of our agent interacting with the environment using the trained $Q$-Network. The `utils.create_video` function uses the `imageio` library to create the video. This library produces some warnings that can be distracting, so, to suppress these warnings we run the code below."
      ]
    },
    {
      "cell_type": "code",
      "execution_count": 19,
      "metadata": {
        "id": "A5dKMavMKoSa"
      },
      "outputs": [],
      "source": [
        "# Suppress warnings from imageio\n",
        "import logging\n",
        "logging.getLogger().setLevel(logging.ERROR)"
      ]
    },
    {
      "cell_type": "markdown",
      "metadata": {
        "id": "5Yw4O_8oKoSc"
      },
      "source": [
        "In the cell below we create a video of our agent interacting with the Lunar Lander environment using the trained `q_network`. The video is saved to the `videos` folder with the given `filename`. We use the `utils.embed_mp4` function to embed the video in the Jupyter Notebook so that we can see it here directly without having to download it.\n",
        "\n",
        "We should note that since the lunar lander starts with a random initial force applied to its center of mass, every time you run the cell below you will see a different video. If the agent was trained properly, it should be able to land the lunar lander in the landing pad every time, regardless of the initial force applied to its center of mass."
      ]
    },
    {
      "cell_type": "code",
      "execution_count": 20,
      "metadata": {
        "id": "3Ttb_zLeJKiG",
        "colab": {
          "base_uri": "https://localhost:8080/",
          "height": 501
        },
        "outputId": "5239b6a4-d499-4f65-ccfd-e3f805151c45"
      },
      "outputs": [
        {
          "output_type": "execute_result",
          "data": {
            "text/plain": [
              "<IPython.core.display.HTML object>"
            ],
            "text/html": [
              "\n",
              "    <video width=\"840\" height=\"480\" controls>\n",
              "    <source src=\"data:video/mp4;base64,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\" type=\"video/mp4\">\n",
              "    Your browser does not support the video tag.\n",
              "    </video>"
            ]
          },
          "metadata": {},
          "execution_count": 20
        }
      ],
      "source": [
        "filename = \"./videos/lunar_lander.mp4\"\n",
        "\n",
        "utils.create_video(filename, env, q_network)\n",
        "utils.embed_mp4(filename)"
      ]
    },
    {
      "cell_type": "markdown",
      "metadata": {
        "id": "OdtWdDvxKoSl"
      },
      "source": [
        "<a name=\"11\"></a>\n",
        "## 11 - Congratulations!\n",
        "\n",
        "You have successfully used Deep Q-Learning with Experience Replay to train an agent to land a lunar lander safely on a landing pad on the surface of the moon. Congratulations!"
      ]
    },
    {
      "cell_type": "markdown",
      "metadata": {
        "id": "0fq8cO6xKoSn"
      },
      "source": [
        "<a name=\"12\"></a>\n",
        "## 12 - References\n",
        "\n",
        "If you would like to learn more about Deep Q-Learning, we recommend you check out the following papers.\n",
        "\n",
        "\n",
        "* [Human-level Control Through Deep Reinforcement Learning](https://storage.googleapis.com/deepmind-media/dqn/DQNNaturePaper.pdf)\n",
        "\n",
        "\n",
        "* [Continuous Control with Deep Reinforcement Learning](https://arxiv.org/pdf/1509.02971.pdf)\n",
        "\n",
        "\n",
        "* [Playing Atari with Deep Reinforcement Learning](https://www.cs.toronto.edu/~vmnih/docs/dqn.pdf)"
      ]
    }
  ],
  "metadata": {
    "colab": {
      "provenance": [],
      "include_colab_link": true
    },
    "kernelspec": {
      "display_name": "Python 3",
      "name": "python3"
    },
    "language_info": {
      "codemirror_mode": {
        "name": "ipython",
        "version": 3
      },
      "file_extension": ".py",
      "mimetype": "text/x-python",
      "name": "python",
      "nbconvert_exporter": "python",
      "pygments_lexer": "ipython3",
      "version": "3.8.13"
    }
  },
  "nbformat": 4,
  "nbformat_minor": 0
}